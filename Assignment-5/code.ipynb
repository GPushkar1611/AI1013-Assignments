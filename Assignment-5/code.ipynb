{
 "cells": [
  {
   "cell_type": "code",
   "execution_count": 1,
   "id": "49927b0c",
   "metadata": {},
   "outputs": [],
   "source": [
    "import numpy as np\n",
    "import matplotlib.pyplot as plt\n",
    "from matplotlib.animation import FuncAnimation\n",
    "import pandas as pd\n",
    "import string\n",
    "import random\n",
    "import cvxpy"
   ]
  },
  {
   "cell_type": "markdown",
   "id": "fad63234",
   "metadata": {},
   "source": [
    "# 1. Simulating and Visualizing a Custom Probability Distribution\n",
    "\n",
    "This process involves generating random samples that follow a custom cumulative distribution function (CDF) \\( F(x) \\) using the **Inverse Transform Sampling** method. The steps are as follows:\n",
    "\n",
    "1. **Understanding the Given CDF $F(x)$:**\n",
    "\n",
    "   The CDF $F(x)$ is defined piecewise as:\n",
    "   $$\n",
    "   F(x) =\n",
    "   \\begin{cases}\n",
    "   0 & x < 0 \\\\\n",
    "   \\frac{x^2}{3} & 0 \\le x < 1 \\\\\n",
    "   \\frac{1}{3} & 1 \\le x < 2 \\\\\n",
    "   \\frac{x + 2}{6} & 2 \\le x < 4 \\\\\n",
    "   1 & x \\ge 4\n",
    "   \\end{cases}\n",
    "   $$\n",
    "   This represents a hybrid distribution: quadratic growth, flat region, then linear growth.\n",
    "\n",
    "2. **Sampling from the Uniform Distribution:**\n",
    "\n",
    "   Generate $N = 1000$ samples from a uniform distribution $U(0, 1)$. These are stored in an array named `array_samples_uniform`.\n",
    "\n",
    "3. **Inverse Transform Sampling:**\n",
    "\n",
    "   To simulate samples that follow $F(x)$, we apply its inverse $F^{-1}(u)$ to each uniform sample $u \\in [0, 1]$. This transformation yields samples that follow the custom distribution. The inverse function is defined piecewise by solving $F(x) = u$ for each interval.\n",
    "\n",
    "4. **Transformed Samples:**\n",
    "\n",
    "   The result of applying $F^{-1}$ to all uniform samples gives `array_samples_custom`, which follows the target distribution.\n",
    "\n",
    "5. **Visualization:**\n",
    "\n",
    "   - **Empirical CDF:** Plot the empirical cumulative distribution function from the transformed samples using a step plot.\n",
    "   - **Theoretical CDF:** Plot the given theoretical CDF $F(x)$ on a separate figure for comparison.\n",
    "   - **Animation:** We use `matplotlib.animation.FuncAnimation` to animate the empirical CDF as the number of samples $N$ increases from 10 to 1000. At each frame, a subset of samples is used to show how the empirical CDF converges to the theoretical one."
   ]
  },
  {
   "cell_type": "code",
   "execution_count": 2,
   "id": "ae276318",
   "metadata": {},
   "outputs": [],
   "source": [
    "np.random.seed(100)  # Set random seed for reproducibility\n",
    "array_samples_uniform = np.random.rand(1000)  # Generate 1000 samples from a uniform distribution over [0, 1)"
   ]
  },
  {
   "cell_type": "code",
   "execution_count": 3,
   "id": "e5562c1e",
   "metadata": {},
   "outputs": [],
   "source": [
    "def inverse_cdf(u):\n",
    "    u = np.asarray(u)\n",
    "    x = np.zeros_like(u, dtype=float)  # Initialize output array with same shape as u\n",
    "\n",
    "    # For u in [0, 1/3), use inverse of F(x)=x²/3 -> x = sqrt(3u) maps to x in [0, 1)\n",
    "    condition_1 = (u >= 0) & (u < 1/3)\n",
    "    x[condition_1] = np.sqrt(3 * u[condition_1])\n",
    "\n",
    "    # For u approximately equal to 1/3, set x = 1\n",
    "    condition_2 = np.isclose(u, 1/3)\n",
    "    x[condition_2] = 1.0\n",
    "\n",
    "    # For u in (1/3, 2/3), set x = 2\n",
    "    condition_3 = (u > 1/3) & (u < 2/3)\n",
    "    x[condition_3] = 2.0\n",
    "\n",
    "    # For u in [2/3, 1), solve 6u - 2 = x to invert F(x) = (x + 2)/6, x in [2, 4)\n",
    "    condition_4 = (u >= 2/3) & (u < 1.0)\n",
    "    x[condition_4] = 6 * u[condition_4] - 2\n",
    "\n",
    "    # For u approximately equal to 1, return x = 4\\\n",
    "    condition_5 = np.isclose(u, 1.0)\n",
    "    x[condition_5] = 4.0\n",
    "\n",
    "    # Return scalar if input was scalar, else return array\n",
    "    if u.ndim == 0:\n",
    "        return x.item()\n",
    "    return x"
   ]
  },
  {
   "cell_type": "code",
   "execution_count": 5,
   "id": "d694588e",
   "metadata": {},
   "outputs": [],
   "source": [
    "inverse_cdf_vectorized = np.vectorize(inverse_cdf)  # Vectorize the inverse_cdf function to apply it element-wise on arrays\n",
    "\n",
    "# Transform each uniform sample to follow the custom distribution using inverse transform sampling\n",
    "array_samples_custom = inverse_cdf_vectorized(array_samples_uniform)"
   ]
  },
  {
   "cell_type": "code",
   "execution_count": 4,
   "id": "7e86ee3d",
   "metadata": {},
   "outputs": [],
   "source": [
    "def theoretical_cdf(x):\n",
    "    result = np.zeros_like(x, dtype=float)  # Initialize result array with same shape as x\n",
    "\n",
    "    # Define intervals based on piecewise CDF definition\n",
    "    mask_neg = x < 0                  # For x < 0 -> F(x) = 0\n",
    "    mask_0_to_1 = (x >= 0) & (x < 1)  # For x in [0, 1) -> F(x) = x² / 3\n",
    "    mask_1_to_2 = (x >= 1) & (x < 2)  # For x in [1, 2) -> F(x) = 1/3 (flat segment)\n",
    "    mask_2_to_4 = (x >= 2) & (x < 4)  # For x in [2, 4) -> F(x) = (x + 2) / 6\n",
    "    mask_4_plus = x >= 4             # For x ≥ 4 -> F(x) = 1\n",
    "\n",
    "    # Apply piecewise definitions\n",
    "    result[mask_neg] = 0\n",
    "    result[mask_0_to_1] = (x[mask_0_to_1]**2) / 3\n",
    "    result[mask_1_to_2] = 1/3\n",
    "    result[mask_2_to_4] = (x[mask_2_to_4] + 2) / 6\n",
    "    result[mask_4_plus] = 1\n",
    "\n",
    "    return result"
   ]
  },
  {
   "cell_type": "code",
   "execution_count": 6,
   "id": "f71b3e95",
   "metadata": {},
   "outputs": [
    {
     "data": {
      "image/png": "[encoded data removed]",
      "text/plain": [
       "<Figure size 1200x800 with 1 Axes>"
      ]
     },
     "metadata": {},
     "output_type": "display_data"
    }
   ],
   "source": [
    "x_grid = np.linspace(-1, 5, 1000)\n",
    "cdf_values = theoretical_cdf(x_grid)\n",
    "\n",
    "# Plot the empirical CDF for array_samples_custom\n",
    "plt.figure(figsize=(12, 8))\n",
    "plt.step(np.sort(array_samples_custom), np.linspace(0, 1, len(array_samples_custom)), where='post', \n",
    "         label='Empirical CDF', color='blue', linewidth=2)\n",
    "plt.plot(x_grid, cdf_values, 'r-', label='True Hybrid CDF', linewidth=2)\n",
    "plt.xlabel('x', fontsize=12)\n",
    "plt.ylabel('F(x)', fontsize=12)\n",
    "plt.title('Empirical vs True CDF (n=1000)', fontsize=14)\n",
    "plt.grid(True)\n",
    "plt.legend(fontsize=12)\n",
    "plt.xlim(0, 6)\n",
    "plt.ylim(0, 1.05)\n",
    "plt.tight_layout()\n",
    "plt.show()"
   ]
  },
  {
   "cell_type": "code",
   "execution_count": 7,
   "id": "7e75942a",
   "metadata": {},
   "outputs": [
    {
     "data": {
      "image/png": "[encoded data removed]",
      "text/plain": [
       "<Figure size 1200x800 with 1 Axes>"
      ]
     },
     "metadata": {},
     "output_type": "display_data"
    }
   ],
   "source": [
    "plt.figure(figsize=(12, 8))\n",
    "plt.plot(x_grid, cdf_values, 'r-', linewidth=2, label='True Hybrid CDF')\n",
    "plt.xlabel('x', fontsize=12)\n",
    "plt.ylabel('F(x)', fontsize=12)\n",
    "plt.title('Theoretical Cumulative Distribution Function', fontsize=14)\n",
    "plt.grid(True)\n",
    "plt.legend(fontsize=12)\n",
    "plt.xlim(0, 6)\n",
    "plt.ylim(0, 1.05)\n",
    "plt.tight_layout()\n",
    "plt.show()"
   ]
  },
  {
   "cell_type": "code",
   "execution_count": 10,
   "id": "85b6e338",
   "metadata": {},
   "outputs": [],
   "source": [
    "fig, ax = plt.subplots(figsize=(12, 8))\n",
    "\n",
    "def update(frame):\n",
    "    ax.clear()\n",
    "    N = int(10 * (1.3**frame))  # Scale N exponentially from 10 to about 1000\n",
    "    if N > 1000:\n",
    "        N = 1000\n",
    "    \n",
    "    # Randomly sample N points from array_samples_custom\n",
    "    indices = np.random.choice(len(array_samples_custom), size=N, replace=False)\n",
    "    samples = np.sort(array_samples_custom[indices])\n",
    "    \n",
    "    # Plot the empirical CDF for the current subset\n",
    "    ax.step(samples, np.linspace(0, 1, len(samples)), where='post', \n",
    "            label='Empirical CDF', color='blue', linewidth=2)\n",
    "    \n",
    "    # Plot the theoretical CDF\n",
    "    ax.plot(x_grid, cdf_values, 'r-', label='True Hybrid CDF', linewidth=2)\n",
    "    \n",
    "    ax.set_xlabel('x', fontsize=12)\n",
    "    ax.set_ylabel('F(x)', fontsize=12)\n",
    "    ax.set_title(f'Empirical vs True CDF (n={N})', fontsize=14)\n",
    "    ax.grid(True)\n",
    "    ax.legend(fontsize=12)\n",
    "    ax.set_xlim(0, 6)\n",
    "    ax.set_ylim(0, 1.05)\n",
    "    \n",
    "    return ax,\n",
    "\n",
    "# Create animation with more frames and slower speed\n",
    "ani = FuncAnimation(fig, update, frames=range(40), interval=250, blit=False)\n",
    "ani.save('Plots/cdf_animation.gif', writer='pillow', fps=4, dpi=120)\n",
    "plt.close()"
   ]
  },
  {
   "cell_type": "markdown",
   "id": "3cae2d35",
   "metadata": {},
   "source": [
    "# 2. Wordle: A Game in Probability"
   ]
  },
  {
   "cell_type": "code",
   "execution_count": 9,
   "id": "ca972b19",
   "metadata": {},
   "outputs": [],
   "source": [
    "# Read the CSV file containing the word list with no header\n",
    "words_df = pd.read_csv('wordlist.csv', header=None, names=['word'])\n",
    "\n",
    "# Clean each word: remove leading/trailing spaces and convert to lowercase\n",
    "words_df['word'] = words_df['word'].str.strip().str.lower()\n",
    "\n",
    "# Convert the cleaned words into a regular Python list\n",
    "word_list = words_df['word'].tolist()"
   ]
  },
  {
   "cell_type": "code",
   "execution_count": 10,
   "id": "d17107cb",
   "metadata": {},
   "outputs": [
    {
     "name": "stdout",
     "output_type": "stream",
     "text": [
      "Total number of words loaded: 3103\n"
     ]
    }
   ],
   "source": [
    "word_count = len(words_df)\n",
    "print(f\"Total number of words loaded: {word_count}\")"
   ]
  },
  {
   "cell_type": "code",
   "execution_count": 11,
   "id": "1ad89d3a",
   "metadata": {},
   "outputs": [],
   "source": [
    "# Initialize a nested dictionary to count occurrences of each letter (a-z) at each of the 5 positions (0 to 4)\n",
    "letter_counts = {pos: {letter: 0 for letter in string.ascii_lowercase} for pos in range(5)}\n",
    "\n",
    "# Iterate over each word in the DataFrame\n",
    "for _, row in words_df.iterrows():\n",
    "    word = row['word']\n",
    "    # Count each letter's occurrence at its position (index 0 to 4)\n",
    "    for i, letter in enumerate(word):\n",
    "        if letter in string.ascii_lowercase:\n",
    "            letter_counts[i][letter] += 1"
   ]
  },
  {
   "cell_type": "code",
   "execution_count": 12,
   "id": "b768c88f",
   "metadata": {},
   "outputs": [
    {
     "data": {
      "image/png": "[encoded data removed]",
      "text/plain": [
       "<Figure size 1000x1200 with 5 Axes>"
      ]
     },
     "metadata": {},
     "output_type": "display_data"
    }
   ],
   "source": [
    "# Create a vertical stack of 5 subplots (one for each letter position in a 5-letter word)\n",
    "fig, axes = plt.subplots(5, 1, figsize=(10, 12), sharex=True)\n",
    "fig.suptitle('Letter Frequency by Position (1 to 5)', fontsize=18, fontweight='bold')\n",
    "\n",
    "# Loop over each position and corresponding axis\n",
    "for pos, ax in enumerate(axes):\n",
    "    # Get letter frequency dictionary for the current position and sort it by count (descending)\n",
    "    letter_freq = letter_counts[pos]\n",
    "    sorted_items = sorted(letter_freq.items(), key=lambda x: x[1], reverse=True)\n",
    "    letters, counts = zip(*sorted_items)\n",
    "\n",
    "    # Plot a bar chart of letter frequencies\n",
    "    ax.bar(letters, counts, color='blue', alpha=0.85)\n",
    "    ax.set_ylabel(f'Pos {pos+1}', fontsize=11)\n",
    "    ax.grid(True, axis='y', linestyle=':', alpha=0.5)\n",
    "    ax.set_ylim(0, max(counts) * 1.1)  # Slight padding on y-axis for visual clarity\n",
    "\n",
    "# Label the x-axis and adjust layout to prevent overlap with the title\n",
    "axes[-1].set_xlabel('Letter', fontsize=12)\n",
    "plt.tight_layout(rect=[0, 0, 1, 0.96])\n",
    "plt.show()"
   ]
  },
  {
   "cell_type": "markdown",
   "id": "4c2c38ed",
   "metadata": {},
   "source": [
    "### Explanation of the `wordle_feedback` Function\n",
    "\n",
    "The `wordle_feedback` function simulates the feedback mechanism in the game Wordle, comparing a guess against a solution to calculate how many letters are correctly placed (green), how many are correct but misplaced (yellow), and how many are incorrect (gray).\n",
    "\n",
    "#### Process:\n",
    "\n",
    "1. **Input Handling:**\n",
    "   - Both the solution and the guess are converted to lowercase for case-insensitive comparison.\n",
    "\n",
    "2. **Initialization:**\n",
    "   - Three variables (`green`, `yellow`, `gray`) are initialized to 0 to store the counts of exact matches (green), partial matches (yellow), and incorrect letters (gray).\n",
    "   - Two lists (`solution_remaining` and `guess_remaining`) are created as mutable copies of the solution and guess to track which letters have already been matched.\n",
    "\n",
    "3. **First Pass (Exact Matches - Green):**\n",
    "   - For each position (from 0 to 4), the function checks if the letter in the guess matches the letter in the solution at the same position.\n",
    "   - If a match is found, the `green` counter is incremented, and both the solution and guess at that position are marked as processed (`_` and `*`, respectively).\n",
    "\n",
    "4. **Second Pass (Partial Matches - Yellow):**\n",
    "   - The function then checks for partial matches, i.e., letters that appear in the solution but are in the wrong position.\n",
    "   - For each remaining letter in the guess (not already marked), it checks if it exists in the remaining solution letters.\n",
    "   - If a match is found, the `yellow` counter is incremented, and the matched solution letter is marked as processed.\n",
    "\n",
    "5. **Gray Count:**\n",
    "   - The `gray` count is calculated by subtracting the number of green and yellow matches from 5 (the total number of letters), since the remaining letters must be incorrect.\n",
    "\n",
    "#### Output:\n",
    "The function returns a tuple `(green, yellow, gray)` representing the number of correct positions, correct letters in wrong positions, and incorrect letters, respectively."
   ]
  },
  {
   "cell_type": "code",
   "execution_count": 13,
   "id": "8c0bcede",
   "metadata": {},
   "outputs": [],
   "source": [
    "def wordle_feedback(solution, guess):\n",
    "    # Convert both solution and guess to lowercase for case-insensitive comparison\n",
    "    solution = solution.lower()\n",
    "    guess = guess.lower()\n",
    "    \n",
    "    # Initialize counters for green, yellow, and gray matches\n",
    "    green = 0\n",
    "    yellow = 0\n",
    "    \n",
    "    # Create mutable lists of the solution and guess to track remaining characters\n",
    "    solution_remaining = list(solution)\n",
    "    guess_remaining = list(guess)\n",
    "    \n",
    "    # First pass: check for exact matches (green)\n",
    "    for i in range(5):\n",
    "        if guess[i] == solution[i]:\n",
    "            green += 1\n",
    "            # Mark this position as processed\n",
    "            solution_remaining[i] = '_'\n",
    "            guess_remaining[i] = '*'\n",
    "    \n",
    "    # Second pass: check for partial matches (yellow)\n",
    "    for i in range(5):\n",
    "        if guess_remaining[i] != '*':  # Skip positions already matched\n",
    "            if guess_remaining[i] in solution_remaining:\n",
    "                yellow += 1\n",
    "                # Mark this letter as processed\n",
    "                solution_remaining[solution_remaining.index(guess_remaining[i])] = '_'\n",
    "    \n",
    "    # Calculate gray count (incorrect letters)\n",
    "    gray = 5-(green+yellow)\n",
    "    \n",
    "    return (green, yellow, gray)"
   ]
  },
  {
   "cell_type": "code",
   "execution_count": 14,
   "id": "9ce8bc86",
   "metadata": {},
   "outputs": [
    {
     "name": "stdout",
     "output_type": "stream",
     "text": [
      "guess = CRANE, solution = SLATE: (2, 0, 3)\n",
      "guess = BRAIN, solution = BRINE: (2, 2, 1)\n"
     ]
    }
   ],
   "source": [
    "example1 = wordle_feedback(\"SLATE\", \"CRANE\")\n",
    "example2 = wordle_feedback(\"BRINE\", \"BRAIN\")\n",
    "\n",
    "print(f\"guess = CRANE, solution = SLATE: {example1}\")\n",
    "print(f\"guess = BRAIN, solution = BRINE: {example2}\")"
   ]
  },
  {
   "cell_type": "code",
   "execution_count": 15,
   "id": "b4b94997",
   "metadata": {},
   "outputs": [],
   "source": [
    "random.seed(42)"
   ]
  },
  {
   "cell_type": "markdown",
   "id": "61d51a91",
   "metadata": {},
   "source": [
    "### `estimate_at_least_one_green_probability` Function\n",
    "\n",
    "This function estimates the probability of getting at least one green tile (correct letter in the correct position) when guessing a word.\n",
    "\n",
    "#### Process:\n",
    "1. **Simulation:** Runs `num_simulations` times, selecting a random solution word from `word_list` each time.\n",
    "2. **Feedback:** Uses `wordle_feedback` to get the count of green, yellow, and gray tiles for the guess.\n",
    "3. **Green Tile Check:** If at least one green tile is found, the simulation is considered successful.\n",
    "4. **Probability Calculation:** The probability is the ratio of successful simulations to total simulations.\n",
    "\n",
    "#### Formula:\n",
    "$$P(\\text{at least one green}) = \\frac{\\text{successful simulations}}{\\text{total simulations}}$$"
   ]
  },
  {
   "cell_type": "code",
   "execution_count": 16,
   "id": "ff3b5dac",
   "metadata": {},
   "outputs": [],
   "source": [
    "def estimate_at_least_one_green_probability(guess_word, word_list, num_simulations=1000):\n",
    "    count_at_least_one_green = 0\n",
    "    \n",
    "    for _ in range(num_simulations):\n",
    "        # Randomly select a solution word from the word list\n",
    "        solution_word = random.choice(word_list)\n",
    "        \n",
    "        # Get the feedback (green, yellow, gray counts)\n",
    "        green, yellow, gray = wordle_feedback(solution_word, guess_word)\n",
    "        \n",
    "        # Check if there's at least one green tile (correct letter, correct position)\n",
    "        if green >= 1:\n",
    "            count_at_least_one_green += 1\n",
    "    \n",
    "    # Estimate the probability of having at least one green tile\n",
    "    probability = count_at_least_one_green/num_simulations\n",
    "    return probability"
   ]
  },
  {
   "cell_type": "markdown",
   "id": "44756816",
   "metadata": {},
   "source": [
    "### `estimate_exactly_two_yellow_probability` Function\n",
    "\n",
    "This function estimates the probability of getting exactly two yellow tiles (correct letters in the wrong positions) when guessing a word.\n",
    "\n",
    "#### Process:\n",
    "1. **Simulation:** Runs `num_simulations` times, randomly selecting a solution word from `word_list` each time.\n",
    "2. **Feedback:** Uses `wordle_feedback` to get the count of green, yellow, and gray tiles for the guess.\n",
    "3. **Yellow Tile Check:** If exactly two yellow tiles are found, the simulation is considered successful.\n",
    "4. **Probability Calculation:** The probability is the ratio of successful simulations to total simulations.\n",
    "\n",
    "#### Formula:\n",
    "$$P(\\text{exactly two yellow}) = \\frac{\\text{successful simulations}}{\\text{total simulations}}$$"
   ]
  },
  {
   "cell_type": "code",
   "execution_count": 17,
   "id": "0c3281c5",
   "metadata": {},
   "outputs": [],
   "source": [
    "def estimate_exactly_two_yellow_probability(guess_word, word_list, num_simulations=1000):\n",
    "    count_exactly_two_yellow = 0\n",
    "    \n",
    "    for _ in range(num_simulations):\n",
    "        # Randomly select a solution word from the word list\n",
    "        solution_word = random.choice(word_list)\n",
    "        \n",
    "        # Get the feedback (green, yellow, gray counts)\n",
    "        green, yellow, gray = wordle_feedback(solution_word, guess_word)\n",
    "        \n",
    "        # Check if there are exactly two yellow tiles (correct letters, wrong positions)\n",
    "        if yellow == 2:\n",
    "            count_exactly_two_yellow += 1\n",
    "    \n",
    "    # Estimate the probability of having exactly two yellow tiles\n",
    "    probability = count_exactly_two_yellow/num_simulations\n",
    "    return probability"
   ]
  },
  {
   "cell_type": "code",
   "execution_count": 18,
   "id": "c009e4dd",
   "metadata": {},
   "outputs": [
    {
     "name": "stdout",
     "output_type": "stream",
     "text": [
      "Probability that 'CRANE' results in at least one green tile: 0.4060\n",
      "Probability that 'CRANE' results in exactly two yellow tiles: 0.2540\n"
     ]
    }
   ],
   "source": [
    "# Define the guess word and convert the word list from the DataFrame\n",
    "guess_word = \"CRANE\"\n",
    "\n",
    "# Estimate probability of at least one green tile (correct letter in the correct position)\n",
    "prob_at_least_one_green = estimate_at_least_one_green_probability(guess_word, word_list)\n",
    "print(f\"Probability that '{guess_word}' results in at least one green tile: {prob_at_least_one_green:.4f}\")\n",
    "\n",
    "# Estimate probability of exactly two yellow tiles (correct letters in the wrong positions)\n",
    "prob_exactly_two_yellow = estimate_exactly_two_yellow_probability(guess_word, word_list)\n",
    "print(f\"Probability that '{guess_word}' results in exactly two yellow tiles: {prob_exactly_two_yellow:.4f}\")"
   ]
  },
  {
   "cell_type": "code",
   "execution_count": 19,
   "id": "df97fbc9",
   "metadata": {},
   "outputs": [],
   "source": [
    "def is_consistent(candidate, guess, feedback):\n",
    "    # Get the feedback that would result if the candidate was the solution\n",
    "    candidate_feedback = wordle_feedback(candidate, guess)\n",
    "    \n",
    "    # Return True if the feedback matches the expected feedback, indicating consistency\n",
    "    return candidate_feedback == feedback\n",
    "\n",
    "def filter_word_list(word_list, guess, feedback):\n",
    "    # Filter and return words from the word list that match the expected feedback for the guess\n",
    "    return [word for word in word_list if is_consistent(word, guess, feedback)]"
   ]
  },
  {
   "cell_type": "markdown",
   "id": "e0b24de2",
   "metadata": {},
   "source": [
    "### `run_greedy_wordle` Function\n",
    "\n",
    "This function simulates a greedy strategy to solve Wordle by iteratively refining the list of candidate words based on feedback from each guess.\n",
    "\n",
    "#### Process:\n",
    "1. **Initial Setup:**  \n",
    "   - Makes a copy of `word_list` to avoid modifying the original list.  \n",
    "   - Randomly selects a solution word from `word_list`.  \n",
    "   - Initializes the first guess using `initial_guess` and sets the step counter to 1.\n",
    "\n",
    "2. **Guess Loop:**  \n",
    "   - Repeats the following steps until the guess matches the solution:\n",
    "     - Uses `wordle_feedback` to compare the current guess to the solution.\n",
    "     - If the guess is correct (all tiles green), the function returns the number of steps taken.\n",
    "     - Otherwise, filters `current_word_list` to retain only the valid candidates based on the feedback.\n",
    "     - If no consistent candidates remain, it prints an error message and returns the current step count as a fallback.\n",
    "     - Selects a new random guess from the filtered list.\n",
    "     - Increments the step counter.\n",
    "\n",
    "3. **Termination:**  \n",
    "   - The loop runs until the guess exactly matches the solution.\n",
    "   - The function assumes that the filtering logic ensures the true solution remains in the candidate list.\n",
    "\n",
    "#### Output:\n",
    "The function returns the number of steps it took to identify the correct solution word."
   ]
  },
  {
   "cell_type": "code",
   "execution_count": 20,
   "id": "2c6991ed",
   "metadata": {},
   "outputs": [],
   "source": [
    "def run_greedy_wordle(initial_guess, word_list):\n",
    "    current_word_list = word_list.copy()\n",
    "    solution_word = random.choice(word_list)\n",
    "\n",
    "    current_guess = initial_guess\n",
    "    steps = 1\n",
    "\n",
    "    while True:\n",
    "        feedback = wordle_feedback(solution_word, current_guess)\n",
    "\n",
    "        if feedback[0] == 5:\n",
    "            return steps\n",
    "\n",
    "        current_word_list = filter_word_list(current_word_list, current_guess, feedback)\n",
    "\n",
    "        if not current_word_list:\n",
    "            print(f\"Error: No consistent words found for solution '{solution_word}' and guess '{current_guess}'\")\n",
    "            return steps  # Return current steps, or raise an error\n",
    "\n",
    "        current_guess = random.choice(current_word_list)\n",
    "        steps += 1"
   ]
  },
  {
   "cell_type": "code",
   "execution_count": 21,
   "id": "f3c66726",
   "metadata": {},
   "outputs": [],
   "source": [
    "def evaluate_guess_word(guess_word, word_list, num_trials=1000):\n",
    "    # List to store the number of steps taken in each trial\n",
    "    steps_list = []\n",
    "    \n",
    "    for _ in range(num_trials):\n",
    "        # Run the greedy Wordle solver for the current guess and record the number of steps\n",
    "        steps = run_greedy_wordle(guess_word, word_list)\n",
    "        steps_list.append(steps)\n",
    "    \n",
    "    # Calculate and return the average number of steps across all trials\n",
    "    avg_steps = sum(steps_list) / len(steps_list)\n",
    "    return avg_steps"
   ]
  },
  {
   "cell_type": "code",
   "execution_count": 22,
   "id": "a74b4eaa",
   "metadata": {},
   "outputs": [
    {
     "name": "stdout",
     "output_type": "stream",
     "text": [
      "\n",
      "Results for 1000 independent trials:\n",
      "Average steps for VERVE: 5.48\n",
      "Average steps for CRANE: 5.21\n",
      "\n",
      "CRANE is more efficient than VERVE.\n"
     ]
    }
   ],
   "source": [
    "verve_avg_steps = evaluate_guess_word(\"VERVE\", word_list)\n",
    "crane_avg_steps = evaluate_guess_word(\"CRANE\", word_list)\n",
    "    \n",
    "print(f\"\\nResults for 1000 independent trials:\")\n",
    "print(f\"Average steps for VERVE: {verve_avg_steps:.2f}\")\n",
    "print(f\"Average steps for CRANE: {crane_avg_steps:.2f}\")\n",
    "    \n",
    "    # Determine which guess word is more efficient\n",
    "if verve_avg_steps < crane_avg_steps:\n",
    "    print(\"\\nVERVE is more efficient than CRANE.\")\n",
    "elif crane_avg_steps < verve_avg_steps:\n",
    "    print(\"\\nCRANE is more efficient than VERVE.\")\n",
    "else:\n",
    "    print(\"\\nVERVE and CRANE are equally efficient.\")"
   ]
  },
  {
   "cell_type": "markdown",
   "id": "31e04d29",
   "metadata": {},
   "source": [
    "### `find_s1_word` Function\n",
    "\n",
    "This function finds the word from `word_list` that maximizes the probability of getting at least one green tile when used as a guess.\n",
    "\n",
    "#### Process:\n",
    "1. **Initialization:**\n",
    "   - Sets up `words_to_check` as the full `word_list`.\n",
    "   - Initializes `best_word` to track the word with the highest probability and `best_probability` to store the highest probability found.\n",
    "\n",
    "2. **Simulation Loop:**\n",
    "   - For each word in `words_to_check`, it estimates the probability of getting at least one green tile using `estimate_at_least_one_green_probability`.\n",
    "\n",
    "3. **Update Best Word:**\n",
    "   - If the current word has a higher probability than the previous best, it updates `best_word` and `best_probability`.\n",
    "\n",
    "4. **Output:**\n",
    "   - Returns the word with the highest probability of at least one green tile and its corresponding probability.\n",
    "\n",
    "#### Output:\n",
    "The function returns the word with the highest probability and its probability of getting at least one green tile."
   ]
  },
  {
   "cell_type": "code",
   "execution_count": 23,
   "id": "aea8e04a",
   "metadata": {},
   "outputs": [],
   "source": [
    "def find_s1_word(word_list, num_simulations=1000):\n",
    "    # Initialize list of words to check and variables for tracking the best word and probability\n",
    "    words_to_check = word_list\n",
    "    best_word = None\n",
    "    best_probability = -1\n",
    "    \n",
    "    for word in words_to_check:\n",
    "        # Estimate the probability of at least one green tile for the current word\n",
    "        probability = estimate_at_least_one_green_probability(word, word_list, num_simulations)\n",
    "        \n",
    "        # Update the best word and probability if the current word has a higher probability\n",
    "        if probability > best_probability:\n",
    "            best_word = word\n",
    "            best_probability = probability\n",
    "    \n",
    "    # Return the word with the highest probability and its probability\n",
    "    return best_word, best_probability"
   ]
  },
  {
   "cell_type": "markdown",
   "id": "66ff2579",
   "metadata": {},
   "source": [
    "### `find_s2_word` Function\n",
    "\n",
    "This function finds the word from `word_list` that maximizes the probability of getting exactly two yellow tiles (correct letters in the wrong positions).\n",
    "\n",
    "#### Process:\n",
    "1. **Initialization:**\n",
    "   - Sets up `words_to_check` as the full `word_list`.\n",
    "   - Initializes `best_word` to track the word with the highest probability and `best_probability` to store the highest probability found.\n",
    "\n",
    "2. **Simulation Loop:**\n",
    "   - For each word in `words_to_check`, it estimates the probability of getting exactly two yellow tiles using `estimate_exactly_two_yellow_probability`.\n",
    "\n",
    "3. **Update Best Word:**\n",
    "   - If the current word has a higher probability than the previous best, it updates `best_word` and `best_probability`.\n",
    "\n",
    "4. **Output:**\n",
    "   - Returns the word with the highest probability of exactly two yellow tiles and its corresponding probability.\n",
    "\n",
    "#### Output:\n",
    "The function returns the word with the highest probability and its probability of getting exactly two yellow tiles."
   ]
  },
  {
   "cell_type": "code",
   "execution_count": 24,
   "id": "46cabe43",
   "metadata": {},
   "outputs": [],
   "source": [
    "def find_s2_word(word_list, num_simulations=1000):\n",
    "    # Initialize list of words to check and variables for tracking the best word and probability\n",
    "    words_to_check = word_list\n",
    "    best_word = None\n",
    "    best_probability = -1\n",
    "    \n",
    "    for word in words_to_check:\n",
    "        # Estimate the probability of exactly two yellow tiles for the current word\n",
    "        probability = estimate_exactly_two_yellow_probability(word, word_list, num_simulations)\n",
    "        \n",
    "        # Update the best word and probability if the current word has a higher probability\n",
    "        if probability > best_probability:\n",
    "            best_word = word\n",
    "            best_probability = probability\n",
    "    \n",
    "    # Return the word with the highest probability and its probability\n",
    "    return best_word, best_probability"
   ]
  },
  {
   "cell_type": "markdown",
   "id": "d9797bd7",
   "metadata": {},
   "source": [
    "### `find_s3_word` Function\n",
    "\n",
    "This function finds the optimal word from `word_list` that balances the probabilities of getting at least one green tile and exactly two yellow tiles using an optimization approach.\n",
    "\n",
    "#### Process:\n",
    "1. **Initialization:**\n",
    "   - Sets up `words_to_check` as the full `word_list`.\n",
    "   - Calculates the probabilities for green and yellow tiles for each word using `estimate_at_least_one_green_probability` and `estimate_exactly_two_yellow_probability`.\n",
    "\n",
    "2. **Optimization Problem:**\n",
    "   - Defines an optimization problem to find the best balance between green and yellow probabilities using a variable `alpha`:\n",
    "     $$F(\\alpha) = \\min \\left( \\alpha \\cdot g_w + (1 - \\alpha) \\cdot y_w \\right)$$\n",
    "     where:\n",
    "     - $g_w$ is the green probability for word $w$,\n",
    "     - $y_w$ is the yellow probability for word $w$,\n",
    "     - $\\alpha$ is a weight parameter between 0 and 1.\n",
    "   - Solves this optimization problem using `cvxpy` to maximize the minimum score.\n",
    "\n",
    "3. **Optimal Word Selection:**\n",
    "   - After finding the optimal `alpha`, the function calculates the combined score for each word and selects the word with the smallest score.\n",
    "\n",
    "4. **Output:**\n",
    "   - Returns the optimal `alpha`, the best word based on the balance of probabilities, and its corresponding score.\n",
    "\n",
    "#### Output:\n",
    "The function returns the optimal alpha value, the best word for the balance, and its combined score."
   ]
  },
  {
   "cell_type": "code",
   "execution_count": 25,
   "id": "72c7d765",
   "metadata": {},
   "outputs": [],
   "source": [
    "def find_s3_word(word_list, num_simulations=1000):\n",
    "    # Choose a subset of words to check for efficiency\n",
    "    words_to_check = word_list\n",
    "    \n",
    "    # Calculate probabilities for green and yellow tiles for each word\n",
    "    word_probabilities = {}\n",
    "    for word in words_to_check:\n",
    "        green_prob = estimate_at_least_one_green_probability(word, word_list, num_simulations)\n",
    "        yellow_prob = estimate_exactly_two_yellow_probability(word, word_list, num_simulations)\n",
    "        word_probabilities[word] = (green_prob, yellow_prob)\n",
    "    \n",
    "    # Define the optimization problem to find the optimal alpha (balancing green and yellow probabilities)\n",
    "    alpha = cvxpy.Variable()\n",
    "    \n",
    "    # Define the objective function to maximize F(alpha)\n",
    "    min_values = []\n",
    "    for green_prob, yellow_prob in word_probabilities.values():\n",
    "        min_values.append(alpha * green_prob + (1 - alpha) * yellow_prob)\n",
    "    \n",
    "    # Create a variable to represent the minimum score and add constraints to the problem\n",
    "    min_val = cvxpy.Variable()\n",
    "    constraints = [\n",
    "        alpha >= 0,  # Ensure alpha is between 0 and 1\n",
    "        alpha <= 1\n",
    "    ] + [min_val <= expr for expr in min_values]\n",
    "    \n",
    "    # Create and solve the optimization problem\n",
    "    objective = cvxpy.Maximize(min_val)  # Maximize the minimum score across all words\n",
    "    problem = cvxpy.Problem(objective, constraints)\n",
    "    problem.solve()\n",
    "    \n",
    "    # Retrieve the optimal alpha value after solving the problem\n",
    "    optimal_alpha = alpha.value\n",
    "    \n",
    "    # Find the word with the smallest combined score based on the optimal alpha\n",
    "    best_word = None\n",
    "    best_score = float('inf')\n",
    "    \n",
    "    for word, (green_prob, yellow_prob) in word_probabilities.items():\n",
    "        score = optimal_alpha * green_prob + (1 - optimal_alpha) * yellow_prob\n",
    "        if score < best_score:\n",
    "            best_word = word\n",
    "            best_score = score\n",
    "    \n",
    "    # Return the optimal alpha, the best word, and its score\n",
    "    return optimal_alpha, best_word, best_score"
   ]
  },
  {
   "cell_type": "code",
   "execution_count": 26,
   "id": "c95f369e",
   "metadata": {},
   "outputs": [
    {
     "name": "stdout",
     "output_type": "stream",
     "text": [
      "Word satisfying student S1's proposal: saves\n",
      "Probability of getting at least one green tile: 0.6300\n",
      "\n",
      "Word satisfying student S2's proposal: osier\n",
      "Probability of getting exactly two yellow tiles: 0.3830\n",
      "\n",
      "Results for student S3's proposal:\n",
      "Optimal alpha: 0.7833\n",
      "Word satisfying S3's proposal: nymph\n",
      "Combined score: 0.1034\n"
     ]
    }
   ],
   "source": [
    "# Finding a word satisfying student S1's proposal (at least one green tile)\n",
    "s1_word, s1_probability = find_s1_word(word_list)\n",
    "print(f\"Word satisfying student S1's proposal: {s1_word}\")\n",
    "print(f\"Probability of getting at least one green tile: {s1_probability:.4f}\")\n",
    "    \n",
    "# Finding a word satisfying student S2's proposal (exactly two yellow tiles)\n",
    "s2_word, s2_probability = find_s2_word(word_list)\n",
    "print(f\"\\nWord satisfying student S2's proposal: {s2_word}\")\n",
    "print(f\"Probability of getting exactly two yellow tiles: {s2_probability:.4f}\")\n",
    "    \n",
    "# Finding the optimal alpha and word satisfying student S3's proposal (minimized combined score)\n",
    "optimal_alpha, s3_word, s3_score = find_s3_word(word_list)\n",
    "print(f\"\\nResults for student S3's proposal:\")\n",
    "print(f\"Optimal alpha: {optimal_alpha:.4f}\")\n",
    "print(f\"Word satisfying S3's proposal: {s3_word}\")\n",
    "print(f\"Combined score: {s3_score:.4f}\")"
   ]
  }
 ],
 "metadata": {
  "kernelspec": {
   "display_name": "Python 3",
   "language": "python",
   "name": "python3"
  },
  "language_info": {
   "codemirror_mode": {
    "name": "ipython",
    "version": 3
   },
   "file_extension": ".py",
   "mimetype": "text/x-python",
   "name": "python",
   "nbconvert_exporter": "python",
   "pygments_lexer": "ipython3",
   "version": "3.13.0"
  }
 },
 "nbformat": 4,
 "nbformat_minor": 5
}
