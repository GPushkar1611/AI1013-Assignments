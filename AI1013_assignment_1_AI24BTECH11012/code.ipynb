{
  "cells": [
    {
      "cell_type": "code",
      "execution_count": 31,
      "metadata": {
        "id": "9bM1nLJXkPzK"
      },
      "outputs": [],
      "source": [
        "# Importing Packages\n",
        "import numpy as np\n",
        "import pandas as pd\n",
        "import matplotlib.pyplot as plt\n",
        "import scipy.stats as st"
      ]
    },
    {
      "cell_type": "code",
      "execution_count": 32,
      "metadata": {
        "id": "Vv9ka54Wkob0"
      },
      "outputs": [],
      "source": [
        "# Reading the CSV files into data frames\n",
        "search_times_df = pd.read_csv('search-times-dataset.csv')\n",
        "firing_rates_df = pd.read_csv('firing-rates-dataset.csv')"
      ]
    },
    {
      "cell_type": "code",
      "execution_count": 33,
      "metadata": {
        "colab": {
          "base_uri": "https://localhost:8080/",
          "height": 241
        },
        "id": "dDu0XwJak0dE",
        "outputId": "5aac5f5a-403e-4fb7-ed49-bafbcf90a39c"
      },
      "outputs": [
        {
          "data": {
            "text/html": [
              "<div>\n",
              "<style scoped>\n",
              "    .dataframe tbody tr th:only-of-type {\n",
              "        vertical-align: middle;\n",
              "    }\n",
              "\n",
              "    .dataframe tbody tr th {\n",
              "        vertical-align: top;\n",
              "    }\n",
              "\n",
              "    .dataframe thead th {\n",
              "        text-align: right;\n",
              "    }\n",
              "</style>\n",
              "<table border=\"1\" class=\"dataframe\">\n",
              "  <thead>\n",
              "    <tr style=\"text-align: right;\">\n",
              "      <th></th>\n",
              "      <th>Set 1</th>\n",
              "      <th>Set 1.1</th>\n",
              "      <th>Set 1.2</th>\n",
              "      <th>Set 1.3</th>\n",
              "      <th>Set 1.4</th>\n",
              "      <th>Set 1.5</th>\n",
              "      <th>Set 2</th>\n",
              "      <th>Set 2.1</th>\n",
              "      <th>Set 2.2</th>\n",
              "      <th>Set 2.3</th>\n",
              "      <th>Set 2.4</th>\n",
              "      <th>Set 2.5</th>\n",
              "      <th>Set 3</th>\n",
              "      <th>Set 3.1</th>\n",
              "      <th>Set 3.2</th>\n",
              "      <th>Set 3.3</th>\n",
              "      <th>Set 3.4</th>\n",
              "      <th>Set 3.5</th>\n",
              "    </tr>\n",
              "  </thead>\n",
              "  <tbody>\n",
              "    <tr>\n",
              "      <th>0</th>\n",
              "      <td>Colour</td>\n",
              "      <td>Colour</td>\n",
              "      <td>Pattern</td>\n",
              "      <td>Pattern</td>\n",
              "      <td>Chevron</td>\n",
              "      <td>Chevron</td>\n",
              "      <td>Far</td>\n",
              "      <td>Far</td>\n",
              "      <td>Middle</td>\n",
              "      <td>Middle</td>\n",
              "      <td>Near</td>\n",
              "      <td>Near</td>\n",
              "      <td>Small</td>\n",
              "      <td>Small</td>\n",
              "      <td>Medium</td>\n",
              "      <td>Medium</td>\n",
              "      <td>Large</td>\n",
              "      <td>Large</td>\n",
              "    </tr>\n",
              "    <tr>\n",
              "      <th>1</th>\n",
              "      <td>Oddball L</td>\n",
              "      <td>Oddball R</td>\n",
              "      <td>Oddball L</td>\n",
              "      <td>Oddball R</td>\n",
              "      <td>Oddball L</td>\n",
              "      <td>Oddball R</td>\n",
              "      <td>Oddball L</td>\n",
              "      <td>Oddball R</td>\n",
              "      <td>Oddball L</td>\n",
              "      <td>Oddball R</td>\n",
              "      <td>Oddball L</td>\n",
              "      <td>Oddball R</td>\n",
              "      <td>Oddball L</td>\n",
              "      <td>Oddball R</td>\n",
              "      <td>Oddball L</td>\n",
              "      <td>Oddball R</td>\n",
              "      <td>Oddball L</td>\n",
              "      <td>Oddball R</td>\n",
              "    </tr>\n",
              "    <tr>\n",
              "      <th>2</th>\n",
              "      <td>375</td>\n",
              "      <td>5025</td>\n",
              "      <td>771</td>\n",
              "      <td>1319</td>\n",
              "      <td>485</td>\n",
              "      <td>501</td>\n",
              "      <td>607</td>\n",
              "      <td>826</td>\n",
              "      <td>767</td>\n",
              "      <td>602</td>\n",
              "      <td>545</td>\n",
              "      <td>710</td>\n",
              "      <td>1257</td>\n",
              "      <td>655</td>\n",
              "      <td>547</td>\n",
              "      <td>494</td>\n",
              "      <td>499</td>\n",
              "      <td>495</td>\n",
              "    </tr>\n",
              "    <tr>\n",
              "      <th>3</th>\n",
              "      <td>1425</td>\n",
              "      <td>1146</td>\n",
              "      <td>1490</td>\n",
              "      <td>1149</td>\n",
              "      <td>554</td>\n",
              "      <td>655</td>\n",
              "      <td>653</td>\n",
              "      <td>1210</td>\n",
              "      <td>546</td>\n",
              "      <td>766</td>\n",
              "      <td>490</td>\n",
              "      <td>548</td>\n",
              "      <td>880</td>\n",
              "      <td>719</td>\n",
              "      <td>655</td>\n",
              "      <td>820</td>\n",
              "      <td>605</td>\n",
              "      <td>497</td>\n",
              "    </tr>\n",
              "    <tr>\n",
              "      <th>4</th>\n",
              "      <td>2088</td>\n",
              "      <td>1540</td>\n",
              "      <td>1532</td>\n",
              "      <td>1431</td>\n",
              "      <td>820</td>\n",
              "      <td>932</td>\n",
              "      <td>707</td>\n",
              "      <td>710</td>\n",
              "      <td>545</td>\n",
              "      <td>879</td>\n",
              "      <td>431</td>\n",
              "      <td>435</td>\n",
              "      <td>981</td>\n",
              "      <td>550</td>\n",
              "      <td>658</td>\n",
              "      <td>710</td>\n",
              "      <td>438</td>\n",
              "      <td>495</td>\n",
              "    </tr>\n",
              "  </tbody>\n",
              "</table>\n",
              "</div>"
            ],
            "text/plain": [
              "       Set 1    Set 1.1    Set 1.2    Set 1.3    Set 1.4    Set 1.5  \\\n",
              "0     Colour     Colour    Pattern    Pattern    Chevron    Chevron   \n",
              "1  Oddball L  Oddball R  Oddball L  Oddball R  Oddball L  Oddball R   \n",
              "2        375       5025        771       1319        485        501   \n",
              "3       1425       1146       1490       1149        554        655   \n",
              "4       2088       1540       1532       1431        820        932   \n",
              "\n",
              "       Set 2    Set 2.1    Set 2.2    Set 2.3    Set 2.4    Set 2.5  \\\n",
              "0        Far        Far     Middle     Middle       Near       Near   \n",
              "1  Oddball L  Oddball R  Oddball L  Oddball R  Oddball L  Oddball R   \n",
              "2        607        826        767        602        545        710   \n",
              "3        653       1210        546        766        490        548   \n",
              "4        707        710        545        879        431        435   \n",
              "\n",
              "       Set 3    Set 3.1    Set 3.2    Set 3.3    Set 3.4    Set 3.5  \n",
              "0      Small      Small     Medium     Medium      Large      Large  \n",
              "1  Oddball L  Oddball R  Oddball L  Oddball R  Oddball L  Oddball R  \n",
              "2       1257        655        547        494        499        495  \n",
              "3        880        719        655        820        605        497  \n",
              "4        981        550        658        710        438        495  "
            ]
          },
          "execution_count": 33,
          "metadata": {},
          "output_type": "execute_result"
        }
      ],
      "source": [
        "# Display the first few rows of the dataframe to inspect its structure and contents\n",
        "search_times_df.head()"
      ]
    },
    {
      "cell_type": "markdown",
      "metadata": {},
      "source": [
        "# Q. 1\n",
        "## Computation of average search delays, relative entropy distance per neuron, and $l1$ distance per neuron."
      ]
    },
    {
      "cell_type": "markdown",
      "metadata": {},
      "source": [
        "### 1. (a) Finding average search delays"
      ]
    },
    {
      "cell_type": "code",
      "execution_count": 34,
      "metadata": {
        "id": "VrlJS_SEtgFr"
      },
      "outputs": [],
      "source": [
        "def calculate_average(df, col_idx):\n",
        "    col_values = df.iloc[2:, col_idx].astype(float) - 328.0\n",
        "    # Excluding the first two rows(index 0 and 1) as they contain only titles, not actual values\n",
        "    # Converting the values from string to float for numerical operations\n",
        "    # Subtracting the baseline reaction time of 328ms to isolate search delays\n",
        "    return float(col_values.mean())"
      ]
    },
    {
      "cell_type": "code",
      "execution_count": 35,
      "metadata": {
        "colab": {
          "base_uri": "https://localhost:8080/"
        },
        "id": "2AUUXXPgtsEq",
        "outputId": "07e74ed9-1a9a-422c-f828-94d463a7b6e2"
      },
      "outputs": [
        {
          "name": "stdout",
          "output_type": "stream",
          "text": [
            "[883.7777777777778, 1081.4027777777778, 985.25, 1009.1388888888889, 275.2638888888889, 296.6666666666667, 503.31944444444446, 502.7916666666667, 313.40277777777777, 307.52777777777777, 218.55555555555554, 251.95833333333334, 818.3333333333334, 615.2361111111111, 309.40277777777777, 341.93055555555554, 239.84722222222223, 209.38888888888889]\n"
          ]
        }
      ],
      "source": [
        "# Computing the average search delay for each image pair (columns 0 to 17) and store the results in a list\n",
        "average_search_delays = [calculate_average(search_times_df, i) for i in range(0, 18)]\n",
        "print(average_search_delays)"
      ]
    },
    {
      "cell_type": "code",
      "execution_count": 36,
      "metadata": {},
      "outputs": [
        {
          "data": {
            "text/html": [
              "<div>\n",
              "<style scoped>\n",
              "    .dataframe tbody tr th:only-of-type {\n",
              "        vertical-align: middle;\n",
              "    }\n",
              "\n",
              "    .dataframe tbody tr th {\n",
              "        vertical-align: top;\n",
              "    }\n",
              "\n",
              "    .dataframe thead th {\n",
              "        text-align: right;\n",
              "    }\n",
              "</style>\n",
              "<table border=\"1\" class=\"dataframe\">\n",
              "  <thead>\n",
              "    <tr style=\"text-align: right;\">\n",
              "      <th></th>\n",
              "      <th>Set 1</th>\n",
              "      <th>Set 1.1</th>\n",
              "      <th>Set 1.2</th>\n",
              "      <th>Set 1.3</th>\n",
              "      <th>Set 1.4</th>\n",
              "      <th>Set 1.5</th>\n",
              "      <th>Set 2</th>\n",
              "      <th>Set 2.1</th>\n",
              "      <th>Set 2.2</th>\n",
              "      <th>Set 2.3</th>\n",
              "      <th>Set 2.4</th>\n",
              "      <th>Set 2.5</th>\n",
              "      <th>Set 3</th>\n",
              "      <th>Set 3.1</th>\n",
              "      <th>Set 3.2</th>\n",
              "      <th>Set 3.3</th>\n",
              "      <th>Set 3.4</th>\n",
              "      <th>Set 3.5</th>\n",
              "    </tr>\n",
              "  </thead>\n",
              "  <tbody>\n",
              "    <tr>\n",
              "      <th>0</th>\n",
              "      <td>Colour</td>\n",
              "      <td>Colour</td>\n",
              "      <td>Pattern</td>\n",
              "      <td>Pattern</td>\n",
              "      <td>Chevron</td>\n",
              "      <td>Chevron</td>\n",
              "      <td>Far</td>\n",
              "      <td>Far</td>\n",
              "      <td>Middle</td>\n",
              "      <td>Middle</td>\n",
              "      <td>Near</td>\n",
              "      <td>Near</td>\n",
              "      <td>Small</td>\n",
              "      <td>Small</td>\n",
              "      <td>Medium</td>\n",
              "      <td>Medium</td>\n",
              "      <td>Large</td>\n",
              "      <td>Large</td>\n",
              "    </tr>\n",
              "    <tr>\n",
              "      <th>1</th>\n",
              "      <td>L</td>\n",
              "      <td>R</td>\n",
              "      <td>L</td>\n",
              "      <td>R</td>\n",
              "      <td>L</td>\n",
              "      <td>R</td>\n",
              "      <td>L</td>\n",
              "      <td>R</td>\n",
              "      <td>L</td>\n",
              "      <td>R</td>\n",
              "      <td>L</td>\n",
              "      <td>R</td>\n",
              "      <td>L</td>\n",
              "      <td>R</td>\n",
              "      <td>L</td>\n",
              "      <td>R</td>\n",
              "      <td>L</td>\n",
              "      <td>R</td>\n",
              "    </tr>\n",
              "    <tr>\n",
              "      <th>2</th>\n",
              "      <td>24</td>\n",
              "      <td>21.23076923</td>\n",
              "      <td>44.61538462</td>\n",
              "      <td>38.66666667</td>\n",
              "      <td>25.53846154</td>\n",
              "      <td>38</td>\n",
              "      <td>10</td>\n",
              "      <td>21.33333333</td>\n",
              "      <td>5.333333333</td>\n",
              "      <td>28.66666667</td>\n",
              "      <td>4.333333333</td>\n",
              "      <td>29</td>\n",
              "      <td>26.33333333</td>\n",
              "      <td>46.66666667</td>\n",
              "      <td>20.66666667</td>\n",
              "      <td>50.76923077</td>\n",
              "      <td>21.66666667</td>\n",
              "      <td>40.33333333</td>\n",
              "    </tr>\n",
              "    <tr>\n",
              "      <th>3</th>\n",
              "      <td>25.53846154</td>\n",
              "      <td>11.69230769</td>\n",
              "      <td>30.76923077</td>\n",
              "      <td>19</td>\n",
              "      <td>16.61538462</td>\n",
              "      <td>23.66666667</td>\n",
              "      <td>29</td>\n",
              "      <td>35.33333333</td>\n",
              "      <td>15.33333333</td>\n",
              "      <td>37.33333333</td>\n",
              "      <td>17.66666667</td>\n",
              "      <td>37.33333333</td>\n",
              "      <td>33.66666667</td>\n",
              "      <td>29.33333333</td>\n",
              "      <td>16</td>\n",
              "      <td>20</td>\n",
              "      <td>17.33333333</td>\n",
              "      <td>19.33333333</td>\n",
              "    </tr>\n",
              "    <tr>\n",
              "      <th>4</th>\n",
              "      <td>2.333333333</td>\n",
              "      <td>5</td>\n",
              "      <td>5.666666667</td>\n",
              "      <td>5</td>\n",
              "      <td>11.66666667</td>\n",
              "      <td>13.33333333</td>\n",
              "      <td>17</td>\n",
              "      <td>14.33333333</td>\n",
              "      <td>14.33333333</td>\n",
              "      <td>19</td>\n",
              "      <td>11.33333333</td>\n",
              "      <td>16</td>\n",
              "      <td>20.66666667</td>\n",
              "      <td>17.33333333</td>\n",
              "      <td>14.33333333</td>\n",
              "      <td>16.66666667</td>\n",
              "      <td>10.33333333</td>\n",
              "      <td>13.66666667</td>\n",
              "    </tr>\n",
              "  </tbody>\n",
              "</table>\n",
              "</div>"
            ],
            "text/plain": [
              "         Set 1      Set 1.1      Set 1.2      Set 1.3      Set 1.4  \\\n",
              "0       Colour       Colour      Pattern      Pattern      Chevron   \n",
              "1            L            R            L            R            L   \n",
              "2           24  21.23076923  44.61538462  38.66666667  25.53846154   \n",
              "3  25.53846154  11.69230769  30.76923077           19  16.61538462   \n",
              "4  2.333333333            5  5.666666667            5  11.66666667   \n",
              "\n",
              "       Set 1.5 Set 2      Set 2.1      Set 2.2      Set 2.3      Set 2.4  \\\n",
              "0      Chevron   Far          Far       Middle       Middle         Near   \n",
              "1            R     L            R            L            R            L   \n",
              "2           38    10  21.33333333  5.333333333  28.66666667  4.333333333   \n",
              "3  23.66666667    29  35.33333333  15.33333333  37.33333333  17.66666667   \n",
              "4  13.33333333    17  14.33333333  14.33333333           19  11.33333333   \n",
              "\n",
              "       Set 2.5        Set 3      Set 3.1      Set 3.2      Set 3.3  \\\n",
              "0         Near        Small        Small       Medium       Medium   \n",
              "1            R            L            R            L            R   \n",
              "2           29  26.33333333  46.66666667  20.66666667  50.76923077   \n",
              "3  37.33333333  33.66666667  29.33333333           16           20   \n",
              "4           16  20.66666667  17.33333333  14.33333333  16.66666667   \n",
              "\n",
              "       Set 3.4      Set 3.5  \n",
              "0        Large        Large  \n",
              "1            L            R  \n",
              "2  21.66666667  40.33333333  \n",
              "3  17.33333333  19.33333333  \n",
              "4  10.33333333  13.66666667  "
            ]
          },
          "execution_count": 36,
          "metadata": {},
          "output_type": "execute_result"
        }
      ],
      "source": [
        "# Display the first few rows of the dataframe to inspect its structure and contents\n",
        "firing_rates_df.head()"
      ]
    },
    {
      "cell_type": "markdown",
      "metadata": {},
      "source": [
        "### 1. (b) Finding relative entropy distance per neuron"
      ]
    },
    {
      "cell_type": "markdown",
      "metadata": {},
      "source": [
        "Given an oddball image $ i $ with firing rates $ \\lambda_i = [\\lambda_i(1), \\dots, \\lambda_i(N)]^{\\top} $ and a distracter image $ j $ with firing rates \n",
        "$ \\lambda_j = [\\lambda_j(1), \\dots, \\lambda_j(N)]^{\\top} $, where $ N $ is the number of neurons, the relative entropy distance per neuron between images $ i $ and $ j $ is defined as$$D_{ij} := \\frac{1}{N} \\sum_{n=1}^{N} \\left[ \\lambda_i(n) \\log \\frac{\\lambda_i(n)}{\\lambda_j(n)} - \\lambda_i(n) + \\lambda_j(n) \\right].$$"
      ]
    },
    {
      "cell_type": "code",
      "execution_count": 37,
      "metadata": {},
      "outputs": [],
      "source": [
        "def compute_relative_entropy_distance(lambda_i, lambda_j):\n",
        "    lambda_i = lambda_i.astype(float)\n",
        "    lambda_j = lambda_j.astype(float)\n",
        "    # Replacing 0s with NaN to avoid log(0) and division by 0\n",
        "    lambda_i = lambda_i.replace(0, np.nan)\n",
        "    lambda_j = lambda_j.replace(0, np.nan)\n",
        "    # Computing the relative entropy distance using the given formula\n",
        "    relative_entropy = lambda_i*(np.log(lambda_i / lambda_j)) - lambda_i + lambda_j\n",
        "    # Return the mean of the computed values\n",
        "    return float(relative_entropy.mean())"
      ]
    },
    {
      "cell_type": "code",
      "execution_count": 38,
      "metadata": {},
      "outputs": [
        {
          "name": "stdout",
          "output_type": "stream",
          "text": [
            "[0.6383479384257953, 0.6183570539491742, 0.6568505110011884, 0.6629365149281123, 1.5533732543967032, 1.6307647870434872, 1.1167733701360314, 1.0901119359008282, 1.461938324013528, 1.5654859665288952, 1.774730947237426, 2.1278376887052746, 0.6542809923589478, 0.7841652488997836, 1.1306061278763084, 1.477290414634093, 1.6434411681388326, 1.7249862301952175]\n"
          ]
        }
      ],
      "source": [
        "# Compute the relative entropy distance for each pair of adjacent columns; first i,i+1 then i+1,i\n",
        "relative_entropy_distances = []\n",
        "for i in range(0, 17, 2):\n",
        "    relative_entropy_distances.append(compute_relative_entropy_distance(firing_rates_df.iloc[2:, i], firing_rates_df.iloc[2:, i+1]))\n",
        "    relative_entropy_distances.append(compute_relative_entropy_distance(firing_rates_df.iloc[2:, i+1], firing_rates_df.iloc[2:, i]))\n",
        "\n",
        "print(relative_entropy_distances)"
      ]
    },
    {
      "cell_type": "markdown",
      "metadata": {},
      "source": [
        "### 1. (c) Finding $l1$ distances per neuron"
      ]
    },
    {
      "cell_type": "markdown",
      "metadata": {},
      "source": [
        "Given an oddball image $ i $ with firing rates $ \\lambda_i = [\\lambda_i(1), \\dots, \\lambda_i(N)]^{\\top} $ and a distracter image $ j $ with firing rates \n",
        "$ \\lambda_j = [\\lambda_j(1), \\dots, \\lambda_j(N)]^{\\top} $, where $ N $ is the number of neurons, the $l1$ distance per neuron between images $ i $ and $ j $ is defined as\n",
        "\n",
        "$$L_{ij} := \\frac{1}{N} \\sum_{n=1}^{N} \\left| \\lambda_i(n) - \\lambda_j(n) \\right|$$"
      ]
    },
    {
      "cell_type": "code",
      "execution_count": 39,
      "metadata": {},
      "outputs": [],
      "source": [
        "def compute_L_1_distance(lambda_i, lambda_j):\n",
        "    # Convert input series to float for numerical operations\n",
        "    lambda_i = lambda_i.astype(float)\n",
        "    lambda_j = lambda_j.astype(float)\n",
        "    # Compute the L1 distance as the mean of absolute difference\n",
        "    L_ij = (np.abs(lambda_i - lambda_j)).mean()\n",
        "\n",
        "    # Return the result as a float\n",
        "    return float(L_ij)"
      ]
    },
    {
      "cell_type": "code",
      "execution_count": 40,
      "metadata": {},
      "outputs": [
        {
          "name": "stdout",
          "output_type": "stream",
          "text": [
            "[2.775678497586207, 2.775678497586207, 3.2063306807643683, 3.2063306807643683, 4.79391394082184, 4.79391394082184, 3.791582734286885, 3.791582734286885, 4.134551241049181, 4.134551241049181, 4.729698940967213, 4.729698940967213, 3.1110865740438594, 3.1110865740438594, 3.945098030385965, 3.945098030385965, 5.459295090763157, 5.459295090763157]\n"
          ]
        }
      ],
      "source": [
        "# Compute the L1 distance for each pair of adjacent columns in steps of 2\n",
        "L_1_distances = []\n",
        "for i in range(0, 17, 2):\n",
        "    # Compute L1 distance from column i to column i+1\n",
        "    L_1_distances.append(compute_L_1_distance(firing_rates_df.iloc[2:, i], firing_rates_df.iloc[2:, i+1]))\n",
        "    # Compute L1 distance from column i+1 to column i (reverse order)\n",
        "    L_1_distances.append(compute_L_1_distance(firing_rates_df.iloc[2:, i+1], firing_rates_df.iloc[2:, i]))\n",
        "\n",
        "print(L_1_distances)"
      ]
    },
    {
      "cell_type": "markdown",
      "metadata": {},
      "source": [
        "# Q. 2"
      ]
    },
    {
      "cell_type": "markdown",
      "metadata": {},
      "source": [
        "## 2. (a) Fitting a straight line through origin with relative entopy distances on x-axis and inverse of search delays on the y-axis"
      ]
    },
    {
      "cell_type": "code",
      "execution_count": 41,
      "metadata": {},
      "outputs": [
        {
          "data": {
            "text/plain": [
              "array([0.00113151, 0.00092472, 0.00101497, 0.00099094, 0.00363288,\n",
              "       0.00337079, 0.00198681, 0.0019889 , 0.00319078, 0.00325174,\n",
              "       0.0045755 , 0.00396891, 0.001222  , 0.00162539, 0.00323203,\n",
              "       0.00292457, 0.00416932, 0.0047758 ])"
            ]
          },
          "execution_count": 41,
          "metadata": {},
          "output_type": "execute_result"
        }
      ],
      "source": [
        "inverse_average_search_delays = 1.0/np.array(average_search_delays)\n",
        "inverse_average_search_delays #verifying the code"
      ]
    },
    {
      "cell_type": "code",
      "execution_count": 42,
      "metadata": {},
      "outputs": [],
      "source": [
        "x_axis_relative_entropy = np.array(relative_entropy_distances)\n",
        "y_axis = inverse_average_search_delays"
      ]
    },
    {
      "cell_type": "markdown",
      "metadata": {},
      "source": [
        "The slope $ m $ of the best-fit line through the origin is derived using the least squares method. Normally, in linear regression, we fit a model of the form: $y = mx + b$,\n",
        "where $m$ is the slope and $b$ is the intercept. When the line is constrained to pass through the origin ($b = 0$), the least squares criterion minimizes the sum of squared errors:\n",
        "$$S = \\sum (y - mx)^2$$\n",
        "To find $m$, we take the derivative of $S$ with respect to $m$ and set it to zero (because we want to minimize this error):\n",
        "$$\\frac{dS}{dm} = -2 \\sum x(y - mx) = 0$$\n",
        "Solving for $m$, we get:\n",
        "$$m = \\frac{\\sum x y}{\\sum x^2}$$\n"
      ]
    },
    {
      "cell_type": "code",
      "execution_count": 43,
      "metadata": {},
      "outputs": [],
      "source": [
        "def compute_slope_through_origin(x, y):\n",
        "    # Computes the slope of a best-fit line through the origin using least squares regression.\n",
        "    return np.sum(x * y) / np.sum(x ** 2)"
      ]
    },
    {
      "cell_type": "code",
      "execution_count": 44,
      "metadata": {},
      "outputs": [
        {
          "name": "stdout",
          "output_type": "stream",
          "text": [
            "0.002201685956532322\n"
          ]
        }
      ],
      "source": [
        "slope_1 = compute_slope_through_origin(x_axis_relative_entropy, y_axis)\n",
        "print(slope_1)"
      ]
    },
    {
      "cell_type": "markdown",
      "metadata": {},
      "source": [
        "### Plotting both the actual points and fitted line to get a graphical understanding"
      ]
    },
    {
      "cell_type": "code",
      "execution_count": 45,
      "metadata": {},
      "outputs": [
        {
          "data": {
            "image/png": "[encoded data removed]",
            "text/plain": [
              "<Figure size 640x480 with 1 Axes>"
            ]
          },
          "metadata": {},
          "output_type": "display_data"
        }
      ],
      "source": [
        "fitted_y_1 = slope_1 * x_axis_relative_entropy\n",
        "\n",
        "# Ensure the best-fit line extends from (0,0)\n",
        "x_fit = np.linspace(0, np.max(x_axis_relative_entropy), 100)  # Generate x values from 0 to max\n",
        "y_fit = slope_1 * x_fit  # Compute corresponding y values\n",
        "\n",
        "# Scatter plot\n",
        "plt.scatter(x_axis_relative_entropy, y_axis, color=\"blue\", label=\"Data Points\")\n",
        "\n",
        "# Best-fit line passing through the origin\n",
        "plt.plot(x_fit, y_fit, color=\"red\", label=\"Best Fit Line\")\n",
        "\n",
        "# Ensure the origin is visible\n",
        "plt.axhline(0, color='black', linestyle='--', linewidth=0.5)  # Horizontal axis\n",
        "plt.axvline(0, color='black', linestyle='--', linewidth=0.5)  # Vertical axis\n",
        "\n",
        "# Adjust limits to ensure (0,0) is included\n",
        "plt.xlim(0, np.max(x_axis_relative_entropy)*1.1)  # Slight padding for better visibility\n",
        "plt.ylim(0, np.max(y_axis)*1.1)\n",
        "\n",
        "plt.xlabel(\"Relative Entropy Distance\")\n",
        "plt.ylabel(\"Inverse of Average Search Delays\")\n",
        "plt.legend()\n",
        "plt.grid(True)\n",
        "plt.show() # Can use plt.savefig as well but then everytime we run the code, a plot will be saved"
      ]
    },
    {
      "cell_type": "markdown",
      "metadata": {},
      "source": [
        "## 2. (b) Fitting a straight line passing through the origin with $l1$ distances on the x‐axis and inverse of average search delays on the y‐axis"
      ]
    },
    {
      "cell_type": "code",
      "execution_count": 46,
      "metadata": {},
      "outputs": [],
      "source": [
        "x_axis_L1_distances = np.array(L_1_distances)"
      ]
    },
    {
      "cell_type": "code",
      "execution_count": 47,
      "metadata": {},
      "outputs": [
        {
          "name": "stdout",
          "output_type": "stream",
          "text": [
            "0.0007000776902229355\n"
          ]
        }
      ],
      "source": [
        "slope_2 = compute_slope_through_origin(x_axis_L1_distances, y_axis)\n",
        "print(slope_2)"
      ]
    },
    {
      "cell_type": "markdown",
      "metadata": {},
      "source": [
        "### Plotting both the actual points and fitted line to get a graphical understanding"
      ]
    },
    {
      "cell_type": "code",
      "execution_count": 48,
      "metadata": {},
      "outputs": [
        {
          "data": {
            "image/png": "[encoded data removed]",
            "text/plain": [
              "<Figure size 640x480 with 1 Axes>"
            ]
          },
          "metadata": {},
          "output_type": "display_data"
        }
      ],
      "source": [
        "fitted_y_2 = slope_2*x_axis_L1_distances\n",
        "\n",
        "# Ensure the best-fit line extends from (0,0)\n",
        "x_fit = np.linspace(0, np.max(x_axis_L1_distances), 100)  # Generate x values from 0 to max\n",
        "y_fit = slope_2 * x_fit  # Compute corresponding y values\n",
        "\n",
        "# Scatter plot\n",
        "plt.scatter(x_axis_L1_distances, y_axis, color=\"blue\", label=\"Data Points\")\n",
        "\n",
        "# Best-fit line passing through the origin\n",
        "plt.plot(x_fit, y_fit, color=\"red\", label=\"Best Fit Line\")\n",
        "\n",
        "# Ensure the origin is visible\n",
        "plt.axhline(0, color='black', linestyle='--', linewidth=0.5)  # Horizontal axis\n",
        "plt.axvline(0, color='black', linestyle='--', linewidth=0.5)  # Vertical axis\n",
        "\n",
        "# Adjust limits to ensure (0,0) is included\n",
        "plt.xlim(0, np.max(x_axis_L1_distances) * 1.1)  # Slight padding for better visibility\n",
        "plt.ylim(0, np.max(y_axis) * 1.1)\n",
        "\n",
        "plt.xlabel(\"L1 distances\")\n",
        "plt.ylabel(\"Inverse of Average Search Delays\")\n",
        "plt.legend()\n",
        "plt.grid(True)\n",
        "plt.show() # Can use plt.savefig as well but then everytime we run the code, a plot will be saved"
      ]
    },
    {
      "cell_type": "markdown",
      "metadata": {},
      "source": [
        "## Finding which of the above 2 lines was a better fit using mean square error"
      ]
    },
    {
      "cell_type": "code",
      "execution_count": 49,
      "metadata": {},
      "outputs": [
        {
          "name": "stdout",
          "output_type": "stream",
          "text": [
            "MSE for Line computed using Relative Entropy Distances: 2.295312895628889e-07\n",
            "MSE for Line computred using L1 Distances: 5.827512203447879e-07\n",
            "The better fit is: Line computed using Relative Entropy Distances\n"
          ]
        }
      ],
      "source": [
        "# Calculate Mean Squared Error for the line computed using Relative Entropy Distances\n",
        "mse_1 = np.mean((y_axis - fitted_y_1)**2)\n",
        "# Calculate Mean Squared Error for the line computed using L1 Distances\n",
        "mse_2 = np.mean((y_axis - fitted_y_2)**2)\n",
        "\n",
        "# Print the MSE values to compare the performance of both fitting methods\n",
        "print(f\"MSE for Line computed using Relative Entropy Distances: {mse_1}\")\n",
        "print(f\"MSE for Line computred using L1 Distances: {mse_2}\")\n",
        "\n",
        "# Determine which method provides a better fit (lower MSE)\n",
        "better_fit = \"Line computed using Relative Entropy Distances\" if mse_1<mse_2 else \"Line computed using L1 Distances\"\n",
        "print(f\"The better fit is: {better_fit}\")"
      ]
    },
    {
      "cell_type": "markdown",
      "metadata": {},
      "source": [
        "# Q 3. Fitting a Gamma distribution to the search delays."
      ]
    },
    {
      "cell_type": "markdown",
      "metadata": {},
      "source": [
        "## 3. (a) \n",
        "Randomly select half the number of columns in the search times data set. For each column selected, compute the mean and standard deviation of its values (after subtracting 328 ms from the search times). Store the mean values in an array named mean_search_delays and the standard deviation values in an array named\n",
        "std_search_delays. Plot the standard deviation of the search delays against their means. From the plot, estimate the shape parameter and print its value."
      ]
    },
    {
      "cell_type": "code",
      "execution_count": 50,
      "metadata": {},
      "outputs": [],
      "source": [
        "# Set seed for reproducibility\n",
        "np.random.seed(20)\n",
        "\n",
        "# Select half of the total columns randomly\n",
        "selected_columns = np.random.choice(\n",
        "    search_times_df.iloc[2:].astype(float).columns,  \n",
        "    size=len(search_times_df.iloc[2:].astype(float).columns) // 2,  \n",
        "    replace=False  \n",
        ")\n",
        "# Extract the selected columns from the dataframe\n",
        "selected_data = search_times_df.iloc[2:].astype(float)[selected_columns]\n",
        "# Adjust the selected data by subtracting the baseline reaction time (328 ms)\n",
        "adjusted_data = selected_data - 328"
      ]
    },
    {
      "cell_type": "code",
      "execution_count": 51,
      "metadata": {},
      "outputs": [],
      "source": [
        "mean_search_delays = adjusted_data.mean().values\n",
        "std_search_delays = adjusted_data.std().values"
      ]
    },
    {
      "cell_type": "code",
      "execution_count": 52,
      "metadata": {},
      "outputs": [
        {
          "data": {
            "image/png": "[encoded data removed]",
            "text/plain": [
              "<Figure size 640x480 with 1 Axes>"
            ]
          },
          "metadata": {},
          "output_type": "display_data"
        }
      ],
      "source": [
        "plt.scatter(mean_search_delays, std_search_delays,color=\"green\")\n",
        "plt.xlabel(\"Mean Search Delay\")\n",
        "plt.ylabel(\"Standard Deviation of Search Delay\")\n",
        "plt.title(\"Standard Deviation vs Mean Search Delay\")\n",
        "plt.grid(True)\n",
        "plt.show() # Can use plt.savefig as well but then everytime we run the code, a plot will be saved"
      ]
    },
    {
      "cell_type": "code",
      "execution_count": 53,
      "metadata": {},
      "outputs": [
        {
          "name": "stdout",
          "output_type": "stream",
          "text": [
            "Estimated Shape Parameter: 2.4171\n"
          ]
        }
      ],
      "source": [
        "# The function compute_slope_through_origin uses the least squares method to find the best-fit slope for a regression line that passes through the origin\n",
        "\n",
        "shape_parameter_estimate = (compute_slope_through_origin(std_search_delays, mean_search_delays))**2\n",
        "# In a Gamma distribution, the shape parameter (a) is related to the squared ratio of mean/std deviation, since this is estimated as the slope of the regression line between \n",
        "# standard deviations (std_search_delays) and means (mean_search_delays), squaring this slope provides an estimate of the shape parameter for the Gamma distribution\n",
        "print(f\"Estimated Shape Parameter: {shape_parameter_estimate:.4f}\")"
      ]
    },
    {
      "cell_type": "markdown",
      "metadata": {},
      "source": [
        "## 3. (b)\n",
        "On each of the columns that did not contribute to the shape parameter estimation, randomly select one half of the samples. Using all the selected samples, estimate the rate parameter and print its value."
      ]
    },
    {
      "cell_type": "code",
      "execution_count": 54,
      "metadata": {},
      "outputs": [],
      "source": [
        "# Identify the remaining columns that are not part of the selected columns\n",
        "remaining_columns = [col for col in search_times_df.columns if col not in selected_columns]\n",
        "# Extract data from the remaining columns starting from the third row (index 2) and convert values to float\n",
        "# Subtracting 328 from all values to remove the baseline value\n",
        "remaining_data = search_times_df.iloc[2:].astype(float)[remaining_columns] - 328\n",
        "# Randomly select half of the samples (rows)\n",
        "selected_samples = remaining_data.sample(frac=0.5)"
      ]
    },
    {
      "cell_type": "code",
      "execution_count": 55,
      "metadata": {},
      "outputs": [
        {
          "name": "stdout",
          "output_type": "stream",
          "text": [
            "Sample Means: [1090.72222222  288.22222222  454.75        522.22222222  317.55555556\n",
            "  229.83333333  800.5         310.91666667  225.08333333]\n",
            "Sample Standard Deviations: [646.88160149 172.69859973 301.78378021 417.22629085 183.51962829\n",
            " 165.86440245 423.46539747 204.02063971 169.49629157]\n"
          ]
        }
      ],
      "source": [
        "# Compute the mean of each column in the selected samples\n",
        "sample_means = selected_samples.mean().values\n",
        "# Compute the standard deviation of each column in the selected samples\n",
        "sample_std_devs = selected_samples.std().values\n",
        "\n",
        "print(\"Sample Means:\", sample_means)\n",
        "print(\"Sample Standard Deviations:\", sample_std_devs)"
      ]
    },
    {
      "cell_type": "code",
      "execution_count": 56,
      "metadata": {},
      "outputs": [
        {
          "name": "stdout",
          "output_type": "stream",
          "text": [
            "Estimated Rate Parameter: 0.0031\n"
          ]
        }
      ],
      "source": [
        "# Estimate the rate parameter(b) for a Gamma distribution by fitting the relationship between variance(std dev squared) and mean\n",
        "rate_parameter_estimate = compute_slope_through_origin(sample_std_devs**2, sample_means)\n",
        "print(f\"Estimated Rate Parameter: {rate_parameter_estimate:.4f}\")"
      ]
    },
    {
      "cell_type": "markdown",
      "metadata": {},
      "source": [
        "## 3. (c)\n",
        "From each of the columns used for 3(b), collect the remaining half of the samples that did not contribute to the rate parameter estimation. Accumulate all these samples into an array named search_delays. Plot the empirical cdf of the samples in search_delays. On the same figure, plot the Gamma(a, b) cdf, say G, where a is the shape parameter estimated in 3(a) and b is the rate parameter estimated in 3(b). Print the value of the so‐called Kolmogorov–Smirnov test statistic"
      ]
    },
    {
      "cell_type": "code",
      "execution_count": 57,
      "metadata": {},
      "outputs": [],
      "source": [
        "# Drop the randomly selected rows to get the remaining samples\n",
        "remaining_samples = remaining_data.drop(index=selected_samples.index).values.flatten()\n",
        "\n",
        "# Remove NaN values from the flattened array (if any)\n",
        "search_delays = remaining_samples[~np.isnan(remaining_samples)]"
      ]
    },
    {
      "cell_type": "code",
      "execution_count": 58,
      "metadata": {},
      "outputs": [],
      "source": [
        "# Computing empirical CDF\n",
        "search_delays_sorted = np.sort(search_delays)\n",
        "empirical_cdf = np.arange(1, len(search_delays_sorted) + 1) / len(search_delays_sorted)\n",
        "# Computing Gamma CDF using shape and rate parameter\n",
        "gamma_cdf = st.gamma.cdf(search_delays_sorted, a=shape_parameter_estimate, scale = 1/rate_parameter_estimate)"
      ]
    },
    {
      "cell_type": "code",
      "execution_count": 59,
      "metadata": {},
      "outputs": [
        {
          "data": {
            "image/png": "[encoded data removed]",
            "text/plain": [
              "<Figure size 640x480 with 1 Axes>"
            ]
          },
          "metadata": {},
          "output_type": "display_data"
        }
      ],
      "source": [
        "plt.plot(search_delays_sorted, empirical_cdf, label=\"Empirical CDF\", linestyle=\"-\", color=\"green\")\n",
        "plt.plot(search_delays_sorted, gamma_cdf, label=f\"Gamma CDF({shape_parameter_estimate:.2f}, {rate_parameter_estimate:.4f})\", linestyle=\"--\", color=\"red\")\n",
        "plt.xlabel(\"Search Delay\")\n",
        "plt.ylabel(\"CDF\")\n",
        "plt.legend()\n",
        "plt.grid(True)\n",
        "plt.show() # Can use plt.savefig as well but then everytime we run the code, a plot will be saved"
      ]
    },
    {
      "cell_type": "markdown",
      "metadata": {},
      "source": [
        "We can compute the Kolmogorov-Smirnov statistic using the following formula $$KS(F, G) = \\max_x |F(x) - G(x)|$$\n"
      ]
    },
    {
      "cell_type": "code",
      "execution_count": 60,
      "metadata": {},
      "outputs": [
        {
          "name": "stdout",
          "output_type": "stream",
          "text": [
            "Kolmogorov-Smirnov Test Statistic: 0.395552\n"
          ]
        }
      ],
      "source": [
        "# Computing Kolmogorov-Smirnov statistic\n",
        "ks_test_statistic = np.max(np.abs(empirical_cdf - st.gamma.cdf(search_delays_sorted, a=shape_parameter_estimate, scale = 1/rate_parameter_estimate)))\n",
        "print(f\"Kolmogorov-Smirnov Test Statistic: {ks_test_statistic:.6f}\")"
      ]
    }
  ],
  "metadata": {
    "colab": {
      "provenance": []
    },
    "kernelspec": {
      "display_name": "Python 3",
      "name": "python3"
    },
    "language_info": {
      "codemirror_mode": {
        "name": "ipython",
        "version": 3
      },
      "file_extension": ".py",
      "mimetype": "text/x-python",
      "name": "python",
      "nbconvert_exporter": "python",
      "pygments_lexer": "ipython3",
      "version": "3.13.0"
    }
  },
  "nbformat": 4,
  "nbformat_minor": 0
}
