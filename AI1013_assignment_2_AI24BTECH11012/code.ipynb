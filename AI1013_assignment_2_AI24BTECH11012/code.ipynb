{
 "cells": [
  {
   "cell_type": "code",
   "execution_count": 26,
   "metadata": {},
   "outputs": [],
   "source": [
    "import numpy as np\n",
    "import pandas as pd\n",
    "import matplotlib.pyplot as plt\n",
    "import scipy.stats as st\n",
    "from sklearn.model_selection import train_test_split\n",
    "\n",
    "#these are for cometics\n",
    "import matplotlib.cm as cm\n",
    "import matplotlib.colors as mcolors\n",
    "from matplotlib.collections import LineCollection"
   ]
  },
  {
   "cell_type": "markdown",
   "metadata": {},
   "source": [
    "# Training an Artificial Neural Network"
   ]
  },
  {
   "cell_type": "code",
   "execution_count": 27,
   "metadata": {},
   "outputs": [],
   "source": [
    "# Read the CSV file 'data_Q1.csv' into a pandas DataFrame\n",
    "Q1_data_df = pd.read_csv('data_Q1.csv')"
   ]
  },
  {
   "cell_type": "code",
   "execution_count": 28,
   "metadata": {},
   "outputs": [
    {
     "name": "stdout",
     "output_type": "stream",
     "text": [
      "200\n"
     ]
    }
   ],
   "source": [
    "training_x1 = Q1_data_df.iloc[:, 0].to_numpy()\n",
    "training_x2 = Q1_data_df.iloc[:,1].to_numpy()\n",
    "training_y = (Q1_data_df.iloc[:,2].to_numpy()).reshape(-1,1)\n",
    "\n",
    "N = len(training_x1)\n",
    "print(N)"
   ]
  },
  {
   "cell_type": "code",
   "execution_count": 29,
   "metadata": {},
   "outputs": [],
   "source": [
    "training_x = np.array([[x1,x2,1] for x1,x2 in zip(training_x1,training_x2)])"
   ]
  },
  {
   "cell_type": "markdown",
   "metadata": {},
   "source": [
    "## Neural Network Implementation\n",
    "\n",
    "In this section, we will implement a simple neural network with:\n",
    "- An **input layer** with $2$ nodes (excluding bias).\n",
    "- A **hidden layer** with $3$ nodes (excluding bias).\n",
    "- An **output layer** with a single node.\n",
    "\n",
    "The neural network follows the transformations:\n",
    "\n",
    "$$\n",
    "X \\overset{W^{(1)}}{\\longrightarrow} H \\overset{\\sigma}{\\longrightarrow} Z \\overset{W^{(2)}}{\\longrightarrow} O \\overset{\\sigma}{\\longrightarrow} \\hat{Y}\n",
    "$$\n",
    "\n",
    "where:\n",
    "- $X$ is the input data of size $N \\times 3$.\n",
    "- $W^{(1)}$ is the weight matrix of size $3 \\times 3$, connecting the input layer and the hidden layer.\n",
    "- $W^{(2)}$ is the weight matrix of size $4 \\times 1$, connecting the hidden layer and the output layer.\n",
    "- $\\sigma(x)$ is the **sigmoid activation function**, defined as:\n",
    "\n",
    "  $$\n",
    "  \\sigma(x) = \\frac{1}{1 + e^{-x}}\n",
    "  $$\n",
    "\n",
    "- $H = X W^{(1)}$ is the matrix obtained at the hidden layer before activation.\n",
    "- $Z = \\sigma(H)$ is the activated hidden layer matrix with an appended bias column.\n",
    "- $O = Z W^{(2)}$ is the matrix at the output layer before activation.\n",
    "- $\\hat{Y} = \\sigma(O)$ is the final predicted output."
   ]
  },
  {
   "cell_type": "code",
   "execution_count": 30,
   "metadata": {},
   "outputs": [],
   "source": [
    "def sigmoid(x):\n",
    "    return 1/(1+np.exp(-x))"
   ]
  },
  {
   "cell_type": "code",
   "execution_count": 31,
   "metadata": {},
   "outputs": [],
   "source": [
    "def grad_sigmoid(x):\n",
    "    s = sigmoid(x)\n",
    "    return s * (1 - s)"
   ]
  },
  {
   "cell_type": "code",
   "execution_count": 32,
   "metadata": {},
   "outputs": [
    {
     "name": "stdout",
     "output_type": "stream",
     "text": [
      "Weights from Input to Hidden Layer:\n",
      " [[ 0.39293837 -0.42772133 -0.54629709]\n",
      " [ 0.10262954  0.43893794 -0.15378708]\n",
      " [ 0.9615284   0.36965948 -0.0381362 ]]\n",
      "Weights from Hidden to Output Layer:\n",
      " [[-0.21576496]\n",
      " [-0.31364397]\n",
      " [ 0.45809941]\n",
      " [-0.12285551]]\n"
     ]
    }
   ],
   "source": [
    "np.random.seed(123)  # Set a random seed for reproducibility\n",
    "\n",
    "# Initialize weight matrix for input to hidden layer (3x3)\n",
    "# This connects the input layer (3 nodes including bias) to the hidden layer (3 nodes)\n",
    "weights1 = np.random.uniform(-1, 1, (3, 3))\n",
    "\n",
    "# Initialize weight matrix for hidden to output layer (4x1)\n",
    "# This connects the hidden layer (4 nodes including bias) to the output layer (1 node)\n",
    "weights2 = np.random.uniform(-1, 1, (4, 1))\n",
    "# Print the initialized weight matrices for observation\n",
    "print(\"Weights from Input to Hidden Layer:\\n\", weights1)\n",
    "print(\"Weights from Hidden to Output Layer:\\n\", weights2)"
   ]
  },
  {
   "cell_type": "code",
   "execution_count": 33,
   "metadata": {},
   "outputs": [],
   "source": [
    "learning_rate = 0.05\n",
    "max_epochs = 100"
   ]
  },
  {
   "cell_type": "markdown",
   "metadata": {},
   "source": [
    "### Mean Squared Error (MSE) Loss\n",
    "To evaluate the neural network’s performance, we use the **Mean Squared Error (MSE) loss**, defined as:\n",
    "\n",
    "$$ L(Y, \\hat{Y}) = \\frac{1}{2N} \\sum_{i=1}^{N} (Y_i - \\hat{Y}_i)^2 $$\n",
    "\n",
    "where:\n",
    "- $ N $ is the number of data points.\n",
    "- $ Y_i $ represents the true value for the $ i $ th data point.\n",
    "- $ \\hat{Y}_i $ represents the predicted value for the $ i $ th data point."
   ]
  },
  {
   "cell_type": "code",
   "execution_count": 34,
   "metadata": {},
   "outputs": [],
   "source": [
    "training_error = []"
   ]
  },
  {
   "cell_type": "markdown",
   "metadata": {},
   "source": [
    "## Training the Neural Network\n",
    "\n",
    "The neural network is trained for `max_epochs` iterations, following these steps in each epoch:\n",
    "\n",
    "### 1. Forward Pass\n",
    "\n",
    "- **Initialize Inputs:** Set $X$ to the training data (`training_x`).  \n",
    "- **Compute Hidden Layer Pre-Activation:** Multiply $X$ with the weight matrix $W^{(1)}$ to get $H$.  \n",
    "- **Apply Activation:** Compute $Z$ by applying the sigmoid function $\\sigma(H)$ element-wise.  \n",
    "- **Add Bias Term:** Append a column of ones to $Z$ for the bias term.  \n",
    "- **Compute Output Layer Pre-Activation:** Multiply $Z$ with the weight matrix $W^{(2)}$ to get $O$.  \n",
    "- **Apply Activation to Output:** Compute the final predictions $\\hat{Y} = \\sigma(O)$.  \n",
    "- **Calculate Loss:** Measure the difference between the predicted values $\\hat{Y}$ and the actual values in `training_y`, and store the loss in `training_error`.  \n",
    "\n",
    "### 2. Backpropagation\n",
    "\n",
    "#### (a) Calculating the Gradients for `weights2`\n",
    "1. Compute the partial derivative of the error function with respect to each weight in $W^{(2)}$:\n",
    "\n",
    "   $$\n",
    "   \\frac{\\partial \\mathcal{L}}{\\partial W^{(2)}_{k,1}} = \\sum_{i=1}^{N} \\frac{\\partial \\mathcal{L}}{\\partial \\hat{Y}_i} \\times \\frac{\\partial \\hat{Y}_i}{\\partial O_i} \\times \\frac{\\partial O_i}{\\partial W^{(2)}_{k,1}}, \\quad k \\in \\{1,2,3,4\\}\n",
    "   $$\n",
    "\n",
    "2. Implement this gradient calculation and store the values in `gradient2`, a matrix of the same shape as `weights2`.\n",
    "\n",
    "#### (b) Calculating the Gradients for `weights1`\n",
    "1. Compute the partial derivative of the loss function with respect to each weight in $W^{(1)}$:\n",
    "\n",
    "   $$\n",
    "   \\frac{\\partial \\mathcal{L}}{\\partial W^{(1)}_{k,l}} = \\sum_{i=1}^{N} \\frac{\\partial \\mathcal{L}}{\\partial \\hat{Y}_i} \\times \\frac{\\partial \\hat{Y}_i}{\\partial O_i} \\times \\frac{\\partial O_i}{\\partial Z_{i,l}} \\times \\frac{\\partial Z_{i,l}}{\\partial H_{i,l}} \\times \\frac{\\partial H_{i,l}}{\\partial W^{(1)}_{k,l}}, \\quad k, l \\in \\{1,2,3\\}\n",
    "   $$\n",
    "\n",
    "2. Implement this gradient calculation and store the values in `gradient1`, a matrix of the same shape as `weights1`.\n",
    "\n",
    "#### (c) Gradient Descent\n",
    "1. Update each entry of the weight matrix `weights2` using the gradient descent rule:\n",
    "\n",
    "   $$\n",
    "   W^{(2)}_{k,1} \\leftarrow W^{(2)}_{k,1} - \\gamma \\frac{\\partial \\mathcal{L}}{\\partial W^{(2)}_{k,1}}, \\quad k \\in \\{1,2,3,4\\}\n",
    "   $$\n",
    "\n",
    "2. Update each entry of the weight matrix `weights1` using the gradient descent rule:\n",
    "\n",
    "   $$\n",
    "   W^{(1)}_{k,l} \\leftarrow W^{(1)}_{k,l} - \\gamma \\frac{\\partial \\mathcal{L}}{\\partial W^{(1)}_{k,l}}, \\quad k, l \\in \\{1,2,3\\}\n",
    "   $$\n",
    "$\\gamma$ is the learning rate parameter\n"
   ]
  },
  {
   "cell_type": "code",
   "execution_count": 35,
   "metadata": {},
   "outputs": [],
   "source": [
    "for epoch in range(max_epochs):  \n",
    "    # Initialize X to the input training data\n",
    "    X = training_x  \n",
    "\n",
    "    # Compute H as the matrix multiplication of X and weights1\n",
    "    # This gives the pre-activation values at the hidden layer\n",
    "    H = np.dot(X, weights1)  \n",
    "\n",
    "    # Apply the sigmoid function element-wise to get Z (activated hidden layer)\n",
    "    Z = sigmoid(H)  \n",
    "\n",
    "    # Append an all-ones column to Z to account for the bias term in the hidden layer\n",
    "    Z = np.hstack((Z, np.ones((Z.shape[0], 1))))  \n",
    "\n",
    "    # Compute O as the product of Z and weights2\n",
    "    # This gives the pre-activation values at the output layer\n",
    "    O = np.dot(Z, weights2)  \n",
    "\n",
    "    # Apply the sigmoid function element-wise to get final predictions (ŷ)\n",
    "    y_hat = sigmoid(O)  \n",
    "\n",
    "    # Compute the loss using Mean Squared Error (MSE)\n",
    "    loss = np.mean((training_y - y_hat) ** 2) / 2  \n",
    "    training_error.append(loss)  # Store the training error for analysis\n",
    "\n",
    "    # Compute the gradient of loss with respect to output layer weights (weights2)\n",
    "    # temp = dL/dŷ * dŷ/dO (error term at output layer)\n",
    "    temp = -(training_y - y_hat) * grad_sigmoid(O)  \n",
    "    gradient2 = Z.T @ temp  # Compute gradient for weights2\n",
    "    gradient2 /= len(training_y)  # Normalize gradient\n",
    "\n",
    "    # Compute the gradient for hidden layer weights (weights1)\n",
    "    # temp propagates error back through the hidden layer\n",
    "    temp = temp @ weights2[:-1].T * grad_sigmoid(H)  \n",
    "    gradient1 = training_x.T @ temp  # Compute gradient for weights1\n",
    "    gradient1 /= len(training_y)  # Normalize gradient\n",
    "\n",
    "    # Update weights using gradient descent\n",
    "    weights2 -= learning_rate * gradient2  \n",
    "    weights1 -= learning_rate * gradient1  \n"
   ]
  },
  {
   "cell_type": "code",
   "execution_count": 36,
   "metadata": {},
   "outputs": [
    {
     "data": {
      "image/png": "[encoded data removed]",
      "text/plain": [
       "<Figure size 1000x600 with 1 Axes>"
      ]
     },
     "metadata": {},
     "output_type": "display_data"
    }
   ],
   "source": [
    "plt.figure(figsize=(10, 6))\n",
    "\n",
    "# Generate gradient effect from Inferno colormap (Deep Purple → Orange → Yellow)\n",
    "num_points = len(training_error)\n",
    "colors = cm.inferno(np.linspace(0.1, 0.8, num_points))  # Create a gradient effect\n",
    "\n",
    "# Plot each epoch's loss with a scatter plot, applying a gradient color effect\n",
    "for i in range(num_points):\n",
    "    plt.scatter(i + 1, training_error[i], color=colors[i], s=25)  # s controls marker size\n",
    "\n",
    "# Customize plot aesthetics\n",
    "plt.grid(True, alpha=0.7)\n",
    "plt.xlabel(\"Epochs\", fontsize=14, fontweight='bold', color='#222')  # X-axis label\n",
    "plt.ylabel(\"Loss\", fontsize=14, fontweight='bold', color='#222')  # Y-axis label\n",
    "plt.title(\"Training Loss Over Epochs\", fontsize=16, fontweight='bold', color='#333')\n",
    "\n",
    "# Improve tick mark visibility\n",
    "plt.xticks(fontsize=12)  \n",
    "plt.yticks(fontsize=12)\n",
    "# Display the plot\n",
    "plt.show()"
   ]
  },
  {
   "cell_type": "markdown",
   "metadata": {},
   "source": [
    "# Classification using the $k$-Nearest Neighbours Technique"
   ]
  },
  {
   "cell_type": "code",
   "execution_count": 37,
   "metadata": {},
   "outputs": [
    {
     "data": {
      "text/html": [
       "<div>\n",
       "<style scoped>\n",
       "    .dataframe tbody tr th:only-of-type {\n",
       "        vertical-align: middle;\n",
       "    }\n",
       "\n",
       "    .dataframe tbody tr th {\n",
       "        vertical-align: top;\n",
       "    }\n",
       "\n",
       "    .dataframe thead th {\n",
       "        text-align: right;\n",
       "    }\n",
       "</style>\n",
       "<table border=\"1\" class=\"dataframe\">\n",
       "  <thead>\n",
       "    <tr style=\"text-align: right;\">\n",
       "      <th></th>\n",
       "      <th>Sex</th>\n",
       "      <th>Length</th>\n",
       "      <th>Diameter</th>\n",
       "      <th>Height</th>\n",
       "      <th>Whole weight</th>\n",
       "      <th>Shucked weight</th>\n",
       "      <th>Viscera weight</th>\n",
       "      <th>Shell weight</th>\n",
       "      <th>Rings</th>\n",
       "    </tr>\n",
       "  </thead>\n",
       "  <tbody>\n",
       "    <tr>\n",
       "      <th>0</th>\n",
       "      <td>M</td>\n",
       "      <td>0.455</td>\n",
       "      <td>0.365</td>\n",
       "      <td>0.095</td>\n",
       "      <td>0.5140</td>\n",
       "      <td>0.2245</td>\n",
       "      <td>0.1010</td>\n",
       "      <td>0.150</td>\n",
       "      <td>15</td>\n",
       "    </tr>\n",
       "    <tr>\n",
       "      <th>1</th>\n",
       "      <td>M</td>\n",
       "      <td>0.350</td>\n",
       "      <td>0.265</td>\n",
       "      <td>0.090</td>\n",
       "      <td>0.2255</td>\n",
       "      <td>0.0995</td>\n",
       "      <td>0.0485</td>\n",
       "      <td>0.070</td>\n",
       "      <td>7</td>\n",
       "    </tr>\n",
       "    <tr>\n",
       "      <th>2</th>\n",
       "      <td>F</td>\n",
       "      <td>0.530</td>\n",
       "      <td>0.420</td>\n",
       "      <td>0.135</td>\n",
       "      <td>0.6770</td>\n",
       "      <td>0.2565</td>\n",
       "      <td>0.1415</td>\n",
       "      <td>0.210</td>\n",
       "      <td>9</td>\n",
       "    </tr>\n",
       "    <tr>\n",
       "      <th>3</th>\n",
       "      <td>M</td>\n",
       "      <td>0.440</td>\n",
       "      <td>0.365</td>\n",
       "      <td>0.125</td>\n",
       "      <td>0.5160</td>\n",
       "      <td>0.2155</td>\n",
       "      <td>0.1140</td>\n",
       "      <td>0.155</td>\n",
       "      <td>10</td>\n",
       "    </tr>\n",
       "    <tr>\n",
       "      <th>4</th>\n",
       "      <td>I</td>\n",
       "      <td>0.330</td>\n",
       "      <td>0.255</td>\n",
       "      <td>0.080</td>\n",
       "      <td>0.2050</td>\n",
       "      <td>0.0895</td>\n",
       "      <td>0.0395</td>\n",
       "      <td>0.055</td>\n",
       "      <td>7</td>\n",
       "    </tr>\n",
       "  </tbody>\n",
       "</table>\n",
       "</div>"
      ],
      "text/plain": [
       "  Sex  Length  Diameter  Height  Whole weight  Shucked weight  Viscera weight  \\\n",
       "0   M   0.455     0.365   0.095        0.5140          0.2245          0.1010   \n",
       "1   M   0.350     0.265   0.090        0.2255          0.0995          0.0485   \n",
       "2   F   0.530     0.420   0.135        0.6770          0.2565          0.1415   \n",
       "3   M   0.440     0.365   0.125        0.5160          0.2155          0.1140   \n",
       "4   I   0.330     0.255   0.080        0.2050          0.0895          0.0395   \n",
       "\n",
       "   Shell weight  Rings  \n",
       "0         0.150     15  \n",
       "1         0.070      7  \n",
       "2         0.210      9  \n",
       "3         0.155     10  \n",
       "4         0.055      7  "
      ]
     },
     "execution_count": 37,
     "metadata": {},
     "output_type": "execute_result"
    }
   ],
   "source": [
    "# URL of the dataset (UCI Machine Learning Repository - Abalone dataset)\n",
    "url = 'https://archive.ics.uci.edu/ml/machine-learning-databases/abalone/abalone.data'\n",
    "\n",
    "# Load the dataset into a pandas DataFrame\n",
    "# Since the dataset has no predefined header, we set header=None\n",
    "abalone = pd.read_csv(url, header=None)\n",
    "\n",
    "# Define column names based on the dataset's description\n",
    "column_names = ['Sex', 'Length', 'Diameter', 'Height', 'Whole weight', 'Shucked weight', 'Viscera weight', 'Shell weight', 'Rings']\n",
    "\n",
    "# Assign column names to the DataFrame\n",
    "abalone.columns = column_names\n",
    "\n",
    "# Display the first few rows of the dataset\n",
    "abalone.head()"
   ]
  },
  {
   "cell_type": "code",
   "execution_count": 38,
   "metadata": {},
   "outputs": [
    {
     "data": {
      "text/html": [
       "<div>\n",
       "<style scoped>\n",
       "    .dataframe tbody tr th:only-of-type {\n",
       "        vertical-align: middle;\n",
       "    }\n",
       "\n",
       "    .dataframe tbody tr th {\n",
       "        vertical-align: top;\n",
       "    }\n",
       "\n",
       "    .dataframe thead th {\n",
       "        text-align: right;\n",
       "    }\n",
       "</style>\n",
       "<table border=\"1\" class=\"dataframe\">\n",
       "  <thead>\n",
       "    <tr style=\"text-align: right;\">\n",
       "      <th></th>\n",
       "      <th>Length</th>\n",
       "      <th>Diameter</th>\n",
       "      <th>Height</th>\n",
       "      <th>Whole weight</th>\n",
       "      <th>Shucked weight</th>\n",
       "      <th>Viscera weight</th>\n",
       "      <th>Shell weight</th>\n",
       "      <th>Rings</th>\n",
       "    </tr>\n",
       "  </thead>\n",
       "  <tbody>\n",
       "    <tr>\n",
       "      <th>0</th>\n",
       "      <td>0.455</td>\n",
       "      <td>0.365</td>\n",
       "      <td>0.095</td>\n",
       "      <td>0.5140</td>\n",
       "      <td>0.2245</td>\n",
       "      <td>0.1010</td>\n",
       "      <td>0.150</td>\n",
       "      <td>15</td>\n",
       "    </tr>\n",
       "    <tr>\n",
       "      <th>1</th>\n",
       "      <td>0.350</td>\n",
       "      <td>0.265</td>\n",
       "      <td>0.090</td>\n",
       "      <td>0.2255</td>\n",
       "      <td>0.0995</td>\n",
       "      <td>0.0485</td>\n",
       "      <td>0.070</td>\n",
       "      <td>7</td>\n",
       "    </tr>\n",
       "    <tr>\n",
       "      <th>2</th>\n",
       "      <td>0.530</td>\n",
       "      <td>0.420</td>\n",
       "      <td>0.135</td>\n",
       "      <td>0.6770</td>\n",
       "      <td>0.2565</td>\n",
       "      <td>0.1415</td>\n",
       "      <td>0.210</td>\n",
       "      <td>9</td>\n",
       "    </tr>\n",
       "    <tr>\n",
       "      <th>3</th>\n",
       "      <td>0.440</td>\n",
       "      <td>0.365</td>\n",
       "      <td>0.125</td>\n",
       "      <td>0.5160</td>\n",
       "      <td>0.2155</td>\n",
       "      <td>0.1140</td>\n",
       "      <td>0.155</td>\n",
       "      <td>10</td>\n",
       "    </tr>\n",
       "    <tr>\n",
       "      <th>4</th>\n",
       "      <td>0.330</td>\n",
       "      <td>0.255</td>\n",
       "      <td>0.080</td>\n",
       "      <td>0.2050</td>\n",
       "      <td>0.0895</td>\n",
       "      <td>0.0395</td>\n",
       "      <td>0.055</td>\n",
       "      <td>7</td>\n",
       "    </tr>\n",
       "  </tbody>\n",
       "</table>\n",
       "</div>"
      ],
      "text/plain": [
       "   Length  Diameter  Height  Whole weight  Shucked weight  Viscera weight  \\\n",
       "0   0.455     0.365   0.095        0.5140          0.2245          0.1010   \n",
       "1   0.350     0.265   0.090        0.2255          0.0995          0.0485   \n",
       "2   0.530     0.420   0.135        0.6770          0.2565          0.1415   \n",
       "3   0.440     0.365   0.125        0.5160          0.2155          0.1140   \n",
       "4   0.330     0.255   0.080        0.2050          0.0895          0.0395   \n",
       "\n",
       "   Shell weight  Rings  \n",
       "0         0.150     15  \n",
       "1         0.070      7  \n",
       "2         0.210      9  \n",
       "3         0.155     10  \n",
       "4         0.055      7  "
      ]
     },
     "execution_count": 38,
     "metadata": {},
     "output_type": "execute_result"
    }
   ],
   "source": [
    "# Remove the 'Sex' column from the dataset as it is categorical and may not be needed for numerical analysis\n",
    "abalone = abalone.drop(columns='Sex')\n",
    "\n",
    "# Display the first few rows of the modified dataset for verification\n",
    "abalone.head()"
   ]
  },
  {
   "cell_type": "markdown",
   "metadata": {},
   "source": [
    "## Training and Test Data\n",
    "\n",
    "To train our model effectively, we need to split our dataset into two parts using Python’s `scikit-learn` library:  \n",
    "\n",
    "- **Training Dataset:** This subset of data is used to train the model by learning patterns and relationships within the dataset.  \n",
    "- **Test Dataset:** This separate subset is used to evaluate the model’s performance on unseen data, ensuring that it generalizes well.  \n",
    "\n",
    "By splitting the dataset, we can assess how well our model performs on new inputs and avoid overfitting.\n"
   ]
  },
  {
   "cell_type": "code",
   "execution_count": 39,
   "metadata": {},
   "outputs": [
    {
     "name": "stdout",
     "output_type": "stream",
     "text": [
      "Training set size: (2923, 7), (2923,)\n",
      "Test set size: (1254, 7), (1254,)\n"
     ]
    }
   ],
   "source": [
    "X_train, X_test, y_train, y_test = train_test_split(\n",
    "    abalone.drop(columns=['Rings']).values,  # Features\n",
    "    abalone['Rings'].values,  # Target variable\n",
    "    test_size=0.3,  # 30% data for testing, 70% for training\n",
    "    random_state=333  # Fixing randomness for consistent results\n",
    ")\n",
    "\n",
    "# Print the shapes of the training and test sets for verification\n",
    "print(f\"Training set size: {X_train.shape}, {y_train.shape}\")\n",
    "print(f\"Test set size: {X_test.shape}, {y_test.shape}\")"
   ]
  },
  {
   "cell_type": "code",
   "execution_count": 40,
   "metadata": {},
   "outputs": [],
   "source": [
    "# New abalone sample (from Table 1)\n",
    "new_abalone = np.array([[0.569552, 0.446407, 0.154437, 1.016849, 0.439051, 0.222526, 0.291208]])  # Adjust for one-hot encoding"
   ]
  },
  {
   "cell_type": "markdown",
   "metadata": {},
   "source": [
    "## Implementing the *k*-Nearest Neighbors Algorithm  \n",
    "\n",
    "The goal is to predict the age of a new abalone using the *k*-Nearest Neighbors (KNN) algorithm based on physical measurements. The process involves the following steps:\n",
    "\n",
    "1. **Compute Euclidean Distance:**  \n",
    "   For each training data point in $X_{\\text{train}}$, calculate its Euclidean distance from the new data point $X_{\\text{new}}$ using NumPy’s `linalg.norm()` method:\n",
    "\n",
    "   $$\n",
    "   d(X_{\\text{train}, i}, X_{\\text{new}}) = \\sqrt{\\sum_{k=1}^{n} (X_{\\text{train}, i, k} - X_{\\text{new}, k})^2}\n",
    "   $$\n",
    "\n",
    "   Store these distances in a variable called `distances`.\n",
    "\n",
    "2. **Find the 3 Nearest Neighbors:**  \n",
    "   - Sort `distances` in ascending order.  \n",
    "   - Extract the indices of the three smallest distances using `.argsort()`.  \n",
    "   - These indices correspond to the three closest neighbors in the dataset.  \n",
    "\n",
    "3. **Predict the Age:**  \n",
    "   - Retrieve the number of rings (age) from `y_train` for the three nearest neighbors.  \n",
    "   - Select the most frequently occurring age (mode) as the predicted age.  \n",
    "   - If multiple ages appear equally often, pick one randomly.\n",
    "\n",
    "4. **Predict for the Test Set & Compute Mean Squared Error (MSE):**  \n",
    "   - Apply the above steps to each row in `X_{\\text{test}}` to obtain predicted ages, storing them in `predicted_ages_test`.  \n",
    "   - Compute the **Mean Squared Error (MSE)** to evaluate prediction accuracy:\n",
    "\n",
    "     $$\n",
    "     \\text{MSE} = \\frac{1}{M} \\sum_{j=0}^{M-1} ( \\text{predicted\\_ages\\_test}[j] - y_{\\text{test}}[j] )^2\n",
    "     $$\n",
    "\n",
    "   where $M$ is the total number of test samples.\n",
    "\n",
    "This process allows us to estimate the age of new abalones based on the closest matching samples from the dataset.\n"
   ]
  },
  {
   "cell_type": "code",
   "execution_count": 41,
   "metadata": {},
   "outputs": [],
   "source": [
    "# Function to perform k-NN and predict the age\n",
    "def knn_predict(X_train, y_train, X_test, k):\n",
    "    predicted_ages = []\n",
    "    for test_point in X_test:\n",
    "        distances = np.linalg.norm(X_train - test_point, axis=1)\n",
    "        nearest_indices = np.argsort(distances)[:k]\n",
    "        nearest_ages = y_train[nearest_indices]\n",
    "        predicted_age = st.mode(nearest_ages, keepdims=True)[0][0]\n",
    "        predicted_ages.append(predicted_age)\n",
    "    return np.array(predicted_ages)"
   ]
  },
  {
   "cell_type": "code",
   "execution_count": 42,
   "metadata": {},
   "outputs": [
    {
     "name": "stdout",
     "output_type": "stream",
     "text": [
      "Predicted Age: 11\n"
     ]
    }
   ],
   "source": [
    "k = 3\n",
    "\n",
    "# Compute distances from new abalone sample\n",
    "distances = np.linalg.norm(X_train - new_abalone, axis=1)\n",
    "\n",
    "# Find indices of 3 nearest neighbors\n",
    "nearest_indices = np.argsort(distances)[:k]\n",
    "\n",
    "# Extract corresponding ages from y_train\n",
    "nearest_ages = y_train[nearest_indices]\n",
    "\n",
    "# Determine the most frequent age (mode)\n",
    "predicted_age_k3 = st.mode(nearest_ages, keepdims=True)[0][0]\n",
    "\n",
    "print(f\"Predicted Age: {predicted_age_k3}\")"
   ]
  },
  {
   "cell_type": "markdown",
   "metadata": {},
   "source": [
    "## Tuning *k* to Achieve Optimal Performance  \n",
    "\n",
    "To find the best value of *k* for the *k*-Nearest Neighbors (KNN) algorithm, we follow these steps:\n",
    "\n",
    "1. **Vary *k* from 1 to 50** and compute the Mean Squared Error (MSE) for each *k*.\n",
    "2. **Store the computed MSE values** in an array called `mse_values`.\n",
    "3. **Plot *k* values vs. MSE values**:  \n",
    "   - The x-axis represents different values of *k*.  \n",
    "   - The y-axis represents the corresponding MSE values.  \n",
    "4. **Determine the optimal *k***:  \n",
    "   - Identify the value of *k* that results in the lowest MSE.  \n",
    "   - If multiple values of *k* yield the same minimum MSE, select any one randomly.  \n",
    "5. **Report the optimal *k* and its corresponding MSE**.\n",
    "\n",
    "This process helps us select the best *k* that minimizes prediction error and enhances the performance of our KNN model.\n"
   ]
  },
  {
   "cell_type": "code",
   "execution_count": 43,
   "metadata": {},
   "outputs": [],
   "source": [
    "# Define the range of k values to test (from 1 to 50)\n",
    "k_values = range(1, 51)\n",
    "\n",
    "# Initialize an empty list to store the Mean Squared Error (MSE) for each k\n",
    "mse_values = []\n",
    "\n",
    "# Iterate over different values of k\n",
    "for k in k_values:\n",
    "    # Predict ages for the test set using k-nearest neighbors\n",
    "    predicted_ages_test = knn_predict(X_train, y_train, X_test, k)\n",
    "    \n",
    "    # Compute the Mean Squared Error (MSE) for the current k\n",
    "    mse = np.mean((predicted_ages_test - y_test) ** 2)\n",
    "    \n",
    "    # Store the computed MSE in the list\n",
    "    mse_values.append(mse)\n",
    "\n",
    "# Identify all k values that have the minimum MSE\n",
    "min_mse = min(mse_values)  # Retrieve the minimum MSE value\n",
    "optimal_k_candidates = [k_values[i] for i, mse in enumerate(mse_values) if mse == min_mse]\n",
    "\n",
    "# Randomly select one of the optimal k values if multiple exist\n",
    "optimal_k = np.random.choice(optimal_k_candidates)"
   ]
  },
  {
   "cell_type": "code",
   "execution_count": 44,
   "metadata": {},
   "outputs": [
    {
     "data": {
      "image/png": "[encoded data removed]",
      "text/plain": [
       "<Figure size 1200x500 with 1 Axes>"
      ]
     },
     "metadata": {},
     "output_type": "display_data"
    }
   ],
   "source": [
    "# Generate the ocean colormap for scatter points, creating a smooth gradient effect\n",
    "colors = cm.ocean(np.linspace(0, 0.8, len(k_values)))\n",
    "\n",
    "plt.figure(figsize=(12, 5))  # Set figure size for better visualization\n",
    "\n",
    "# Scatter plot for MSE values with an ocean-themed gradient\n",
    "for i, k in enumerate(k_values):\n",
    "    plt.scatter(k, mse_values[i], color=colors[i], s=35)  # Assign each point a unique color\n",
    "\n",
    "# Create line segments to add a smooth gradient effect between points\n",
    "points = np.array([k_values, mse_values]).T.reshape(-1, 1, 2)\n",
    "segments = np.concatenate([points[:-1], points[1:]], axis=1)\n",
    "lc = LineCollection(segments, cmap='ocean', norm=plt.Normalize(0, 1))\n",
    "lc.set_array(np.linspace(0, 0.8, len(k_values)))  # Apply the gradient\n",
    "lc.set_linewidth(2)\n",
    "\n",
    "plt.gca().add_collection(lc)  # Add the gradient line to the plot\n",
    "\n",
    "# Mark the optimal k value with a red dashed vertical line\n",
    "plt.axvline(optimal_k, color='r', linestyle='--', linewidth=2, label=f'Optimal k={optimal_k}')\n",
    "\n",
    "# Customize x-axis tick intervals and limits for better readability\n",
    "plt.xticks(ticks=np.arange(min(k_values) - 1, max(k_values) + 1, 10))  # Set tick intervals (e.g., 0,10,20,...)\n",
    "plt.xlim(min(k_values) - 5, max(k_values) + 5)  # Extend x-axis range for better spacing\n",
    "\n",
    "# Customize aesthetics for clarity and readability\n",
    "plt.grid(True, alpha=0.7)  # Add a light grid for better visualization\n",
    "plt.xlabel('k (Number of Neighbors)', fontsize=14)\n",
    "plt.ylabel('Mean Squared Error (MSE)', fontsize=14)\n",
    "plt.title('Tuning k for Optimal Performance', fontsize=16)\n",
    "\n",
    "# Improve tick mark visibility with bold labels\n",
    "plt.xticks(fontsize=12)\n",
    "plt.yticks(fontsize=12)\n",
    "\n",
    "# Add a legend with a visible frame at the top center\n",
    "plt.legend(fontsize=12, frameon=True, loc=\"upper center\")\n",
    "\n",
    "# Display the final plot\n",
    "plt.show()"
   ]
  },
  {
   "cell_type": "code",
   "execution_count": 45,
   "metadata": {},
   "outputs": [
    {
     "name": "stdout",
     "output_type": "stream",
     "text": [
      "Optimal k: 39\n",
      "Minimum MSE: 6.3740031897926634\n"
     ]
    }
   ],
   "source": [
    "# Output results\n",
    "print(f\"Optimal k: {optimal_k}\")\n",
    "print(f\"Minimum MSE: {min_mse}\")"
   ]
  }
 ],
 "metadata": {
  "kernelspec": {
   "display_name": "Python 3",
   "language": "python",
   "name": "python3"
  },
  "language_info": {
   "codemirror_mode": {
    "name": "ipython",
    "version": 3
   },
   "file_extension": ".py",
   "mimetype": "text/x-python",
   "name": "python",
   "nbconvert_exporter": "python",
   "pygments_lexer": "ipython3",
   "version": "3.13.0"
  }
 },
 "nbformat": 4,
 "nbformat_minor": 2
}
